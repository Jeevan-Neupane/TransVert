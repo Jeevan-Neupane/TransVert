{
  "nbformat": 4,
  "nbformat_minor": 0,
  "metadata": {
    "colab": {
      "provenance": [],
      "gpuType": "T4",
      "authorship_tag": "ABX9TyN+qiAid8tAL+gb+xcjGN3G",
      "include_colab_link": true
    },
    "kernelspec": {
      "name": "python3",
      "display_name": "Python 3"
    },
    "language_info": {
      "name": "python"
    },
    "accelerator": "GPU",
    "widgets": {
      "application/vnd.jupyter.widget-state+json": {
        "b58815cad30c4443a694997f2f6b7485": {
          "model_module": "@jupyter-widgets/controls",
          "model_name": "VBoxModel",
          "model_module_version": "1.5.0",
          "state": {
            "_dom_classes": [
              "widget-interact"
            ],
            "_model_module": "@jupyter-widgets/controls",
            "_model_module_version": "1.5.0",
            "_model_name": "VBoxModel",
            "_view_count": null,
            "_view_module": "@jupyter-widgets/controls",
            "_view_module_version": "1.5.0",
            "_view_name": "VBoxView",
            "box_style": "",
            "children": [
              "IPY_MODEL_35f052abebda4c90a3e4ec127c6c0557",
              "IPY_MODEL_e42cca7c71fc461d9e07144693572b42",
              "IPY_MODEL_b5f45f80865e4734a8ea61bd9841e5d8"
            ],
            "layout": "IPY_MODEL_c73bad0f69814bf59dc41325d2e7323f"
          }
        },
        "35f052abebda4c90a3e4ec127c6c0557": {
          "model_module": "@jupyter-widgets/controls",
          "model_name": "IntSliderModel",
          "model_module_version": "1.5.0",
          "state": {
            "_dom_classes": [],
            "_model_module": "@jupyter-widgets/controls",
            "_model_module_version": "1.5.0",
            "_model_name": "IntSliderModel",
            "_view_count": null,
            "_view_module": "@jupyter-widgets/controls",
            "_view_module_version": "1.5.0",
            "_view_name": "IntSliderView",
            "continuous_update": true,
            "description": "Slice:",
            "description_tooltip": null,
            "disabled": false,
            "layout": "IPY_MODEL_722a3d4cb34442eea07135a43f749b81",
            "max": 367,
            "min": 0,
            "orientation": "horizontal",
            "readout": true,
            "readout_format": "d",
            "step": 1,
            "style": "IPY_MODEL_4a2ca66f38664f6484d65588e355f644",
            "value": 0
          }
        },
        "e42cca7c71fc461d9e07144693572b42": {
          "model_module": "@jupyter-widgets/controls",
          "model_name": "DropdownModel",
          "model_module_version": "1.5.0",
          "state": {
            "_dom_classes": [],
            "_model_module": "@jupyter-widgets/controls",
            "_model_module_version": "1.5.0",
            "_model_name": "DropdownModel",
            "_options_labels": [
              "Coronal",
              "Sagittal"
            ],
            "_view_count": null,
            "_view_module": "@jupyter-widgets/controls",
            "_view_module_version": "1.5.0",
            "_view_name": "DropdownView",
            "description": "View:",
            "description_tooltip": null,
            "disabled": false,
            "index": 0,
            "layout": "IPY_MODEL_525362758eb64100be3d67dfce0931fb",
            "style": "IPY_MODEL_b1fdcfc78c15415f8eff5e8b5796f3f6"
          }
        },
        "b5f45f80865e4734a8ea61bd9841e5d8": {
          "model_module": "@jupyter-widgets/output",
          "model_name": "OutputModel",
          "model_module_version": "1.0.0",
          "state": {
            "_dom_classes": [],
            "_model_module": "@jupyter-widgets/output",
            "_model_module_version": "1.0.0",
            "_model_name": "OutputModel",
            "_view_count": null,
            "_view_module": "@jupyter-widgets/output",
            "_view_module_version": "1.0.0",
            "_view_name": "OutputView",
            "layout": "IPY_MODEL_db283bba891c4eb6af821ef380f75471",
            "msg_id": "",
            "outputs": [
              {
                "output_type": "display_data",
                "data": {
                  "text/plain": "<Figure size 500x500 with 1 Axes>",
                  "image/png": "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\n"
                },
                "metadata": {}
              }
            ]
          }
        },
        "c73bad0f69814bf59dc41325d2e7323f": {
          "model_module": "@jupyter-widgets/base",
          "model_name": "LayoutModel",
          "model_module_version": "1.2.0",
          "state": {
            "_model_module": "@jupyter-widgets/base",
            "_model_module_version": "1.2.0",
            "_model_name": "LayoutModel",
            "_view_count": null,
            "_view_module": "@jupyter-widgets/base",
            "_view_module_version": "1.2.0",
            "_view_name": "LayoutView",
            "align_content": null,
            "align_items": null,
            "align_self": null,
            "border": null,
            "bottom": null,
            "display": null,
            "flex": null,
            "flex_flow": null,
            "grid_area": null,
            "grid_auto_columns": null,
            "grid_auto_flow": null,
            "grid_auto_rows": null,
            "grid_column": null,
            "grid_gap": null,
            "grid_row": null,
            "grid_template_areas": null,
            "grid_template_columns": null,
            "grid_template_rows": null,
            "height": null,
            "justify_content": null,
            "justify_items": null,
            "left": null,
            "margin": null,
            "max_height": null,
            "max_width": null,
            "min_height": null,
            "min_width": null,
            "object_fit": null,
            "object_position": null,
            "order": null,
            "overflow": null,
            "overflow_x": null,
            "overflow_y": null,
            "padding": null,
            "right": null,
            "top": null,
            "visibility": null,
            "width": null
          }
        },
        "722a3d4cb34442eea07135a43f749b81": {
          "model_module": "@jupyter-widgets/base",
          "model_name": "LayoutModel",
          "model_module_version": "1.2.0",
          "state": {
            "_model_module": "@jupyter-widgets/base",
            "_model_module_version": "1.2.0",
            "_model_name": "LayoutModel",
            "_view_count": null,
            "_view_module": "@jupyter-widgets/base",
            "_view_module_version": "1.2.0",
            "_view_name": "LayoutView",
            "align_content": null,
            "align_items": null,
            "align_self": null,
            "border": null,
            "bottom": null,
            "display": null,
            "flex": null,
            "flex_flow": null,
            "grid_area": null,
            "grid_auto_columns": null,
            "grid_auto_flow": null,
            "grid_auto_rows": null,
            "grid_column": null,
            "grid_gap": null,
            "grid_row": null,
            "grid_template_areas": null,
            "grid_template_columns": null,
            "grid_template_rows": null,
            "height": null,
            "justify_content": null,
            "justify_items": null,
            "left": null,
            "margin": null,
            "max_height": null,
            "max_width": null,
            "min_height": null,
            "min_width": null,
            "object_fit": null,
            "object_position": null,
            "order": null,
            "overflow": null,
            "overflow_x": null,
            "overflow_y": null,
            "padding": null,
            "right": null,
            "top": null,
            "visibility": null,
            "width": null
          }
        },
        "4a2ca66f38664f6484d65588e355f644": {
          "model_module": "@jupyter-widgets/controls",
          "model_name": "SliderStyleModel",
          "model_module_version": "1.5.0",
          "state": {
            "_model_module": "@jupyter-widgets/controls",
            "_model_module_version": "1.5.0",
            "_model_name": "SliderStyleModel",
            "_view_count": null,
            "_view_module": "@jupyter-widgets/base",
            "_view_module_version": "1.2.0",
            "_view_name": "StyleView",
            "description_width": "",
            "handle_color": null
          }
        },
        "525362758eb64100be3d67dfce0931fb": {
          "model_module": "@jupyter-widgets/base",
          "model_name": "LayoutModel",
          "model_module_version": "1.2.0",
          "state": {
            "_model_module": "@jupyter-widgets/base",
            "_model_module_version": "1.2.0",
            "_model_name": "LayoutModel",
            "_view_count": null,
            "_view_module": "@jupyter-widgets/base",
            "_view_module_version": "1.2.0",
            "_view_name": "LayoutView",
            "align_content": null,
            "align_items": null,
            "align_self": null,
            "border": null,
            "bottom": null,
            "display": null,
            "flex": null,
            "flex_flow": null,
            "grid_area": null,
            "grid_auto_columns": null,
            "grid_auto_flow": null,
            "grid_auto_rows": null,
            "grid_column": null,
            "grid_gap": null,
            "grid_row": null,
            "grid_template_areas": null,
            "grid_template_columns": null,
            "grid_template_rows": null,
            "height": null,
            "justify_content": null,
            "justify_items": null,
            "left": null,
            "margin": null,
            "max_height": null,
            "max_width": null,
            "min_height": null,
            "min_width": null,
            "object_fit": null,
            "object_position": null,
            "order": null,
            "overflow": null,
            "overflow_x": null,
            "overflow_y": null,
            "padding": null,
            "right": null,
            "top": null,
            "visibility": null,
            "width": null
          }
        },
        "b1fdcfc78c15415f8eff5e8b5796f3f6": {
          "model_module": "@jupyter-widgets/controls",
          "model_name": "DescriptionStyleModel",
          "model_module_version": "1.5.0",
          "state": {
            "_model_module": "@jupyter-widgets/controls",
            "_model_module_version": "1.5.0",
            "_model_name": "DescriptionStyleModel",
            "_view_count": null,
            "_view_module": "@jupyter-widgets/base",
            "_view_module_version": "1.2.0",
            "_view_name": "StyleView",
            "description_width": ""
          }
        },
        "db283bba891c4eb6af821ef380f75471": {
          "model_module": "@jupyter-widgets/base",
          "model_name": "LayoutModel",
          "model_module_version": "1.2.0",
          "state": {
            "_model_module": "@jupyter-widgets/base",
            "_model_module_version": "1.2.0",
            "_model_name": "LayoutModel",
            "_view_count": null,
            "_view_module": "@jupyter-widgets/base",
            "_view_module_version": "1.2.0",
            "_view_name": "LayoutView",
            "align_content": null,
            "align_items": null,
            "align_self": null,
            "border": null,
            "bottom": null,
            "display": null,
            "flex": null,
            "flex_flow": null,
            "grid_area": null,
            "grid_auto_columns": null,
            "grid_auto_flow": null,
            "grid_auto_rows": null,
            "grid_column": null,
            "grid_gap": null,
            "grid_row": null,
            "grid_template_areas": null,
            "grid_template_columns": null,
            "grid_template_rows": null,
            "height": null,
            "justify_content": null,
            "justify_items": null,
            "left": null,
            "margin": null,
            "max_height": null,
            "max_width": null,
            "min_height": null,
            "min_width": null,
            "object_fit": null,
            "object_position": null,
            "order": null,
            "overflow": null,
            "overflow_x": null,
            "overflow_y": null,
            "padding": null,
            "right": null,
            "top": null,
            "visibility": null,
            "width": null
          }
        },
        "45b95a176ba6406788c3979566a6cd97": {
          "model_module": "@jupyter-widgets/controls",
          "model_name": "VBoxModel",
          "model_module_version": "1.5.0",
          "state": {
            "_dom_classes": [
              "widget-interact"
            ],
            "_model_module": "@jupyter-widgets/controls",
            "_model_module_version": "1.5.0",
            "_model_name": "VBoxModel",
            "_view_count": null,
            "_view_module": "@jupyter-widgets/controls",
            "_view_module_version": "1.5.0",
            "_view_name": "VBoxView",
            "box_style": "",
            "children": [
              "IPY_MODEL_a32bb6277aea49b6b927abec21c93c80",
              "IPY_MODEL_029f06c9e4ba4921a13c0b5c545fde69"
            ],
            "layout": "IPY_MODEL_c535b8080e1645b7b0a5b66d01b63010"
          }
        },
        "a32bb6277aea49b6b927abec21c93c80": {
          "model_module": "@jupyter-widgets/controls",
          "model_name": "IntSliderModel",
          "model_module_version": "1.5.0",
          "state": {
            "_dom_classes": [],
            "_model_module": "@jupyter-widgets/controls",
            "_model_module_version": "1.5.0",
            "_model_name": "IntSliderModel",
            "_view_count": null,
            "_view_module": "@jupyter-widgets/controls",
            "_view_module_version": "1.5.0",
            "_view_name": "IntSliderView",
            "continuous_update": true,
            "description": "z",
            "description_tooltip": null,
            "disabled": false,
            "layout": "IPY_MODEL_e23f42d4021f40ef9ceb1a741833e234",
            "max": 63,
            "min": 0,
            "orientation": "horizontal",
            "readout": true,
            "readout_format": "d",
            "step": 1,
            "style": "IPY_MODEL_4bc4db169c634b70accfa4ea157650f7",
            "value": 32
          }
        },
        "029f06c9e4ba4921a13c0b5c545fde69": {
          "model_module": "@jupyter-widgets/output",
          "model_name": "OutputModel",
          "model_module_version": "1.0.0",
          "state": {
            "_dom_classes": [],
            "_model_module": "@jupyter-widgets/output",
            "_model_module_version": "1.0.0",
            "_model_name": "OutputModel",
            "_view_count": null,
            "_view_module": "@jupyter-widgets/output",
            "_view_module_version": "1.0.0",
            "_view_name": "OutputView",
            "layout": "IPY_MODEL_af5cf91f60884b7db201e0db10faaeee",
            "msg_id": "",
            "outputs": [
              {
                "output_type": "display_data",
                "data": {
                  "text/plain": "<Figure size 500x500 with 1 Axes>",
                  "image/png": "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\n"
                },
                "metadata": {}
              }
            ]
          }
        },
        "c535b8080e1645b7b0a5b66d01b63010": {
          "model_module": "@jupyter-widgets/base",
          "model_name": "LayoutModel",
          "model_module_version": "1.2.0",
          "state": {
            "_model_module": "@jupyter-widgets/base",
            "_model_module_version": "1.2.0",
            "_model_name": "LayoutModel",
            "_view_count": null,
            "_view_module": "@jupyter-widgets/base",
            "_view_module_version": "1.2.0",
            "_view_name": "LayoutView",
            "align_content": null,
            "align_items": null,
            "align_self": null,
            "border": null,
            "bottom": null,
            "display": null,
            "flex": null,
            "flex_flow": null,
            "grid_area": null,
            "grid_auto_columns": null,
            "grid_auto_flow": null,
            "grid_auto_rows": null,
            "grid_column": null,
            "grid_gap": null,
            "grid_row": null,
            "grid_template_areas": null,
            "grid_template_columns": null,
            "grid_template_rows": null,
            "height": null,
            "justify_content": null,
            "justify_items": null,
            "left": null,
            "margin": null,
            "max_height": null,
            "max_width": null,
            "min_height": null,
            "min_width": null,
            "object_fit": null,
            "object_position": null,
            "order": null,
            "overflow": null,
            "overflow_x": null,
            "overflow_y": null,
            "padding": null,
            "right": null,
            "top": null,
            "visibility": null,
            "width": null
          }
        },
        "e23f42d4021f40ef9ceb1a741833e234": {
          "model_module": "@jupyter-widgets/base",
          "model_name": "LayoutModel",
          "model_module_version": "1.2.0",
          "state": {
            "_model_module": "@jupyter-widgets/base",
            "_model_module_version": "1.2.0",
            "_model_name": "LayoutModel",
            "_view_count": null,
            "_view_module": "@jupyter-widgets/base",
            "_view_module_version": "1.2.0",
            "_view_name": "LayoutView",
            "align_content": null,
            "align_items": null,
            "align_self": null,
            "border": null,
            "bottom": null,
            "display": null,
            "flex": null,
            "flex_flow": null,
            "grid_area": null,
            "grid_auto_columns": null,
            "grid_auto_flow": null,
            "grid_auto_rows": null,
            "grid_column": null,
            "grid_gap": null,
            "grid_row": null,
            "grid_template_areas": null,
            "grid_template_columns": null,
            "grid_template_rows": null,
            "height": null,
            "justify_content": null,
            "justify_items": null,
            "left": null,
            "margin": null,
            "max_height": null,
            "max_width": null,
            "min_height": null,
            "min_width": null,
            "object_fit": null,
            "object_position": null,
            "order": null,
            "overflow": null,
            "overflow_x": null,
            "overflow_y": null,
            "padding": null,
            "right": null,
            "top": null,
            "visibility": null,
            "width": null
          }
        },
        "4bc4db169c634b70accfa4ea157650f7": {
          "model_module": "@jupyter-widgets/controls",
          "model_name": "SliderStyleModel",
          "model_module_version": "1.5.0",
          "state": {
            "_model_module": "@jupyter-widgets/controls",
            "_model_module_version": "1.5.0",
            "_model_name": "SliderStyleModel",
            "_view_count": null,
            "_view_module": "@jupyter-widgets/base",
            "_view_module_version": "1.2.0",
            "_view_name": "StyleView",
            "description_width": "",
            "handle_color": null
          }
        },
        "af5cf91f60884b7db201e0db10faaeee": {
          "model_module": "@jupyter-widgets/base",
          "model_name": "LayoutModel",
          "model_module_version": "1.2.0",
          "state": {
            "_model_module": "@jupyter-widgets/base",
            "_model_module_version": "1.2.0",
            "_model_name": "LayoutModel",
            "_view_count": null,
            "_view_module": "@jupyter-widgets/base",
            "_view_module_version": "1.2.0",
            "_view_name": "LayoutView",
            "align_content": null,
            "align_items": null,
            "align_self": null,
            "border": null,
            "bottom": null,
            "display": null,
            "flex": null,
            "flex_flow": null,
            "grid_area": null,
            "grid_auto_columns": null,
            "grid_auto_flow": null,
            "grid_auto_rows": null,
            "grid_column": null,
            "grid_gap": null,
            "grid_row": null,
            "grid_template_areas": null,
            "grid_template_columns": null,
            "grid_template_rows": null,
            "height": null,
            "justify_content": null,
            "justify_items": null,
            "left": null,
            "margin": null,
            "max_height": null,
            "max_width": null,
            "min_height": null,
            "min_width": null,
            "object_fit": null,
            "object_position": null,
            "order": null,
            "overflow": null,
            "overflow_x": null,
            "overflow_y": null,
            "padding": null,
            "right": null,
            "top": null,
            "visibility": null,
            "width": null
          }
        },
        "7d3f978284924f91b1cccac34b0ff77a": {
          "model_module": "@jupyter-widgets/controls",
          "model_name": "VBoxModel",
          "model_module_version": "1.5.0",
          "state": {
            "_dom_classes": [
              "widget-interact"
            ],
            "_model_module": "@jupyter-widgets/controls",
            "_model_module_version": "1.5.0",
            "_model_name": "VBoxModel",
            "_view_count": null,
            "_view_module": "@jupyter-widgets/controls",
            "_view_module_version": "1.5.0",
            "_view_name": "VBoxView",
            "box_style": "",
            "children": [
              "IPY_MODEL_5d4d04b24eb345c883962f4a6da2896f",
              "IPY_MODEL_af9e00cade9b4b2b8e8b1b5b3e164133",
              "IPY_MODEL_39bd9fc770d54f149a1e322752287841"
            ],
            "layout": "IPY_MODEL_0f9b26f1e74b46b7955aab89b8c8473a"
          }
        },
        "5d4d04b24eb345c883962f4a6da2896f": {
          "model_module": "@jupyter-widgets/controls",
          "model_name": "IntSliderModel",
          "model_module_version": "1.5.0",
          "state": {
            "_dom_classes": [],
            "_model_module": "@jupyter-widgets/controls",
            "_model_module_version": "1.5.0",
            "_model_name": "IntSliderModel",
            "_view_count": null,
            "_view_module": "@jupyter-widgets/controls",
            "_view_module_version": "1.5.0",
            "_view_name": "IntSliderView",
            "continuous_update": true,
            "description": "Sample",
            "description_tooltip": null,
            "disabled": false,
            "layout": "IPY_MODEL_a46facf838f14cc082786b80f022b397",
            "max": 3,
            "min": 0,
            "orientation": "horizontal",
            "readout": true,
            "readout_format": "d",
            "step": 1,
            "style": "IPY_MODEL_13d4743434f74517b18e639af980846a",
            "value": 2
          }
        },
        "af9e00cade9b4b2b8e8b1b5b3e164133": {
          "model_module": "@jupyter-widgets/controls",
          "model_name": "IntSliderModel",
          "model_module_version": "1.5.0",
          "state": {
            "_dom_classes": [],
            "_model_module": "@jupyter-widgets/controls",
            "_model_module_version": "1.5.0",
            "_model_name": "IntSliderModel",
            "_view_count": null,
            "_view_module": "@jupyter-widgets/controls",
            "_view_module_version": "1.5.0",
            "_view_name": "IntSliderView",
            "continuous_update": true,
            "description": "Slice",
            "description_tooltip": null,
            "disabled": false,
            "layout": "IPY_MODEL_67085721d02c44309a55601430f9633f",
            "max": 63,
            "min": 0,
            "orientation": "horizontal",
            "readout": true,
            "readout_format": "d",
            "step": 1,
            "style": "IPY_MODEL_cb6bc159bb5d41e38952d5241d43c3dd",
            "value": 20
          }
        },
        "39bd9fc770d54f149a1e322752287841": {
          "model_module": "@jupyter-widgets/output",
          "model_name": "OutputModel",
          "model_module_version": "1.0.0",
          "state": {
            "_dom_classes": [],
            "_model_module": "@jupyter-widgets/output",
            "_model_module_version": "1.0.0",
            "_model_name": "OutputModel",
            "_view_count": null,
            "_view_module": "@jupyter-widgets/output",
            "_view_module_version": "1.0.0",
            "_view_name": "OutputView",
            "layout": "IPY_MODEL_bde50a4e3a49469fa34b2300665f1db7",
            "msg_id": "",
            "outputs": [
              {
                "output_type": "display_data",
                "data": {
                  "text/plain": "<Figure size 1000x500 with 2 Axes>",
                  "image/png": "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\n"
                },
                "metadata": {}
              }
            ]
          }
        },
        "0f9b26f1e74b46b7955aab89b8c8473a": {
          "model_module": "@jupyter-widgets/base",
          "model_name": "LayoutModel",
          "model_module_version": "1.2.0",
          "state": {
            "_model_module": "@jupyter-widgets/base",
            "_model_module_version": "1.2.0",
            "_model_name": "LayoutModel",
            "_view_count": null,
            "_view_module": "@jupyter-widgets/base",
            "_view_module_version": "1.2.0",
            "_view_name": "LayoutView",
            "align_content": null,
            "align_items": null,
            "align_self": null,
            "border": null,
            "bottom": null,
            "display": null,
            "flex": null,
            "flex_flow": null,
            "grid_area": null,
            "grid_auto_columns": null,
            "grid_auto_flow": null,
            "grid_auto_rows": null,
            "grid_column": null,
            "grid_gap": null,
            "grid_row": null,
            "grid_template_areas": null,
            "grid_template_columns": null,
            "grid_template_rows": null,
            "height": null,
            "justify_content": null,
            "justify_items": null,
            "left": null,
            "margin": null,
            "max_height": null,
            "max_width": null,
            "min_height": null,
            "min_width": null,
            "object_fit": null,
            "object_position": null,
            "order": null,
            "overflow": null,
            "overflow_x": null,
            "overflow_y": null,
            "padding": null,
            "right": null,
            "top": null,
            "visibility": null,
            "width": null
          }
        },
        "a46facf838f14cc082786b80f022b397": {
          "model_module": "@jupyter-widgets/base",
          "model_name": "LayoutModel",
          "model_module_version": "1.2.0",
          "state": {
            "_model_module": "@jupyter-widgets/base",
            "_model_module_version": "1.2.0",
            "_model_name": "LayoutModel",
            "_view_count": null,
            "_view_module": "@jupyter-widgets/base",
            "_view_module_version": "1.2.0",
            "_view_name": "LayoutView",
            "align_content": null,
            "align_items": null,
            "align_self": null,
            "border": null,
            "bottom": null,
            "display": null,
            "flex": null,
            "flex_flow": null,
            "grid_area": null,
            "grid_auto_columns": null,
            "grid_auto_flow": null,
            "grid_auto_rows": null,
            "grid_column": null,
            "grid_gap": null,
            "grid_row": null,
            "grid_template_areas": null,
            "grid_template_columns": null,
            "grid_template_rows": null,
            "height": null,
            "justify_content": null,
            "justify_items": null,
            "left": null,
            "margin": null,
            "max_height": null,
            "max_width": null,
            "min_height": null,
            "min_width": null,
            "object_fit": null,
            "object_position": null,
            "order": null,
            "overflow": null,
            "overflow_x": null,
            "overflow_y": null,
            "padding": null,
            "right": null,
            "top": null,
            "visibility": null,
            "width": null
          }
        },
        "13d4743434f74517b18e639af980846a": {
          "model_module": "@jupyter-widgets/controls",
          "model_name": "SliderStyleModel",
          "model_module_version": "1.5.0",
          "state": {
            "_model_module": "@jupyter-widgets/controls",
            "_model_module_version": "1.5.0",
            "_model_name": "SliderStyleModel",
            "_view_count": null,
            "_view_module": "@jupyter-widgets/base",
            "_view_module_version": "1.2.0",
            "_view_name": "StyleView",
            "description_width": "",
            "handle_color": null
          }
        },
        "67085721d02c44309a55601430f9633f": {
          "model_module": "@jupyter-widgets/base",
          "model_name": "LayoutModel",
          "model_module_version": "1.2.0",
          "state": {
            "_model_module": "@jupyter-widgets/base",
            "_model_module_version": "1.2.0",
            "_model_name": "LayoutModel",
            "_view_count": null,
            "_view_module": "@jupyter-widgets/base",
            "_view_module_version": "1.2.0",
            "_view_name": "LayoutView",
            "align_content": null,
            "align_items": null,
            "align_self": null,
            "border": null,
            "bottom": null,
            "display": null,
            "flex": null,
            "flex_flow": null,
            "grid_area": null,
            "grid_auto_columns": null,
            "grid_auto_flow": null,
            "grid_auto_rows": null,
            "grid_column": null,
            "grid_gap": null,
            "grid_row": null,
            "grid_template_areas": null,
            "grid_template_columns": null,
            "grid_template_rows": null,
            "height": null,
            "justify_content": null,
            "justify_items": null,
            "left": null,
            "margin": null,
            "max_height": null,
            "max_width": null,
            "min_height": null,
            "min_width": null,
            "object_fit": null,
            "object_position": null,
            "order": null,
            "overflow": null,
            "overflow_x": null,
            "overflow_y": null,
            "padding": null,
            "right": null,
            "top": null,
            "visibility": null,
            "width": null
          }
        },
        "cb6bc159bb5d41e38952d5241d43c3dd": {
          "model_module": "@jupyter-widgets/controls",
          "model_name": "SliderStyleModel",
          "model_module_version": "1.5.0",
          "state": {
            "_model_module": "@jupyter-widgets/controls",
            "_model_module_version": "1.5.0",
            "_model_name": "SliderStyleModel",
            "_view_count": null,
            "_view_module": "@jupyter-widgets/base",
            "_view_module_version": "1.2.0",
            "_view_name": "StyleView",
            "description_width": "",
            "handle_color": null
          }
        },
        "bde50a4e3a49469fa34b2300665f1db7": {
          "model_module": "@jupyter-widgets/base",
          "model_name": "LayoutModel",
          "model_module_version": "1.2.0",
          "state": {
            "_model_module": "@jupyter-widgets/base",
            "_model_module_version": "1.2.0",
            "_model_name": "LayoutModel",
            "_view_count": null,
            "_view_module": "@jupyter-widgets/base",
            "_view_module_version": "1.2.0",
            "_view_name": "LayoutView",
            "align_content": null,
            "align_items": null,
            "align_self": null,
            "border": null,
            "bottom": null,
            "display": null,
            "flex": null,
            "flex_flow": null,
            "grid_area": null,
            "grid_auto_columns": null,
            "grid_auto_flow": null,
            "grid_auto_rows": null,
            "grid_column": null,
            "grid_gap": null,
            "grid_row": null,
            "grid_template_areas": null,
            "grid_template_columns": null,
            "grid_template_rows": null,
            "height": null,
            "justify_content": null,
            "justify_items": null,
            "left": null,
            "margin": null,
            "max_height": null,
            "max_width": null,
            "min_height": null,
            "min_width": null,
            "object_fit": null,
            "object_position": null,
            "order": null,
            "overflow": null,
            "overflow_x": null,
            "overflow_y": null,
            "padding": null,
            "right": null,
            "top": null,
            "visibility": null,
            "width": null
          }
        }
      }
    }
  },
  "cells": [
    {
      "cell_type": "markdown",
      "metadata": {
        "id": "view-in-github",
        "colab_type": "text"
      },
      "source": [
        "<a href=\"https://colab.research.google.com/github/Jeevan-Neupane/TransVert/blob/main/TransvertFinal.ipynb\" target=\"_parent\"><img src=\"https://colab.research.google.com/assets/colab-badge.svg\" alt=\"Open In Colab\"/></a>"
      ]
    },
    {
      "cell_type": "code",
      "execution_count": 1,
      "metadata": {
        "colab": {
          "base_uri": "https://localhost:8080/"
        },
        "id": "AhvK-cn097BB",
        "outputId": "96a902ca-74a9-47f3-ac4d-e3f79c24ca15"
      },
      "outputs": [
        {
          "output_type": "stream",
          "name": "stdout",
          "text": [
            "Mounted at /content/drive\n"
          ]
        }
      ],
      "source": [
        "from google.colab import drive\n",
        "drive.mount('/content/drive')\n"
      ]
    },
    {
      "cell_type": "code",
      "source": [
        "import numpy as np\n",
        "import nibabel as nib\n",
        "import matplotlib.pyplot as plt\n",
        "import ipywidgets as widgets\n",
        "from IPython.display import display\n",
        "\n",
        "# Load a 3D volume\n",
        "nii = nib.load(\"/content/drive/MyDrive/2dto3d/data2dto3d/patient001/CLINIC_0001_hip_msk.nii.gz\") #file path\n",
        "volume = nii.get_fdata()\n",
        "\n",
        "# Normalize for visualization\n",
        "volume = (volume - volume.min()) / (volume.max() - volume.min())\n",
        "\n",
        "# Widget for slice index\n",
        "slice_slider = widgets.IntSlider(min=0, max=volume.shape[0]-1, step=1, description='Slice:')\n",
        "axis_selector = widgets.Dropdown(options=[ 'Coronal', 'Sagittal'], value='Coronal', description='View:')\n",
        "\n",
        "# Function to update plot\n",
        "def view_slice(slice_index, view_axis):\n",
        "    plt.figure(figsize=(5,5))\n",
        "    if view_axis == 'Coronal':\n",
        "        plt.imshow(volume[:, slice_index, :], cmap='gray')\n",
        "    elif view_axis == 'Sagittal':\n",
        "        plt.imshow(volume[:, :, slice_index], cmap='gray')\n",
        "    plt.title(f\"{view_axis} view - Slice {slice_index}\")\n",
        "    plt.axis('off')\n",
        "    plt.show()\n",
        "\n",
        "# Interactive widget\n",
        "widgets.interact(view_slice, slice_index=slice_slider, view_axis=axis_selector)\n"
      ],
      "metadata": {
        "colab": {
          "base_uri": "https://localhost:8080/",
          "height": 595,
          "referenced_widgets": [
            "b58815cad30c4443a694997f2f6b7485",
            "35f052abebda4c90a3e4ec127c6c0557",
            "e42cca7c71fc461d9e07144693572b42",
            "b5f45f80865e4734a8ea61bd9841e5d8",
            "c73bad0f69814bf59dc41325d2e7323f",
            "722a3d4cb34442eea07135a43f749b81",
            "4a2ca66f38664f6484d65588e355f644",
            "525362758eb64100be3d67dfce0931fb",
            "b1fdcfc78c15415f8eff5e8b5796f3f6",
            "db283bba891c4eb6af821ef380f75471"
          ]
        },
        "id": "pV_stV6P-EZ0",
        "outputId": "03c31d3d-c2fe-4532-dea6-862da71d0867"
      },
      "execution_count": 2,
      "outputs": [
        {
          "output_type": "display_data",
          "data": {
            "text/plain": [
              "interactive(children=(IntSlider(value=0, description='Slice:', max=367), Dropdown(description='View:', options…"
            ],
            "application/vnd.jupyter.widget-view+json": {
              "version_major": 2,
              "version_minor": 0,
              "model_id": "b58815cad30c4443a694997f2f6b7485"
            }
          },
          "metadata": {}
        },
        {
          "output_type": "execute_result",
          "data": {
            "text/plain": [
              "<function __main__.view_slice(slice_index, view_axis)>"
            ],
            "text/html": [
              "<div style=\"max-width:800px; border: 1px solid var(--colab-border-color);\"><style>\n",
              "      pre.function-repr-contents {\n",
              "        overflow-x: auto;\n",
              "        padding: 8px 12px;\n",
              "        max-height: 500px;\n",
              "      }\n",
              "\n",
              "      pre.function-repr-contents.function-repr-contents-collapsed {\n",
              "        cursor: pointer;\n",
              "        max-height: 100px;\n",
              "      }\n",
              "    </style>\n",
              "    <pre style=\"white-space: initial; background:\n",
              "         var(--colab-secondary-surface-color); padding: 8px 12px;\n",
              "         border-bottom: 1px solid var(--colab-border-color);\"><b>view_slice</b><br/>def view_slice(slice_index, view_axis)</pre><pre class=\"function-repr-contents function-repr-contents-collapsed\" style=\"\"><a class=\"filepath\" style=\"display:none\" href=\"#\">/content/&lt;ipython-input-2-be2db1575191&gt;</a>&lt;no docstring&gt;</pre></div>"
            ]
          },
          "metadata": {},
          "execution_count": 2
        }
      ]
    },
    {
      "cell_type": "code",
      "source": [
        "import os\n",
        "import torch\n",
        "import numpy as np\n",
        "from torch.utils.data import Dataset\n",
        "from torchvision import transforms\n",
        "from PIL import Image\n",
        "import nibabel as nib\n",
        "from glob import glob\n",
        "from scipy.ndimage import zoom  # Import zoom for resizing\n",
        "\n",
        "\n",
        "class VertebraDataset(Dataset):\n",
        "    def __init__(self, root_dir, transform_2d=None, transform_3d=None, target_shape=(64, 64, 64)):  # Add target shape\n",
        "        self.root_dir = root_dir\n",
        "        self.transform_2d = transform_2d\n",
        "        self.transform_3d = transform_3d\n",
        "        self.target_shape = target_shape  # Store target shape\n",
        "\n",
        "        # Get list of patient folders\n",
        "        self.patient_dirs = sorted(glob(os.path.join(root_dir, \"patient*\")))\n",
        "\n",
        "    def __len__(self):\n",
        "        return len(self.patient_dirs)\n",
        "\n",
        "    def __getitem__(self, idx):\n",
        "        patient_dir = self.patient_dirs[idx]\n",
        "\n",
        "        # Load images (adjust if filenames change)\n",
        "        cor_path = glob(os.path.join(patient_dir, \"*_hip-ap.png\"))[0]\n",
        "        sag_path = glob(os.path.join(patient_dir, \"*_hip-lat.png\"))[0]\n",
        "        vol_path = glob(os.path.join(patient_dir, \"*_hip_msk.nii.gz\"))[0]\n",
        "\n",
        "        cor_img = Image.open(cor_path).convert('L')  # Coronal\n",
        "        sag_img = Image.open(sag_path).convert('L')  # Sagittal\n",
        "\n",
        "        if self.transform_2d:\n",
        "            cor_img = self.transform_2d(cor_img)\n",
        "            sag_img = self.transform_2d(sag_img)\n",
        "\n",
        "        volume = nib.load(vol_path).get_fdata()\n",
        "\n",
        "        # Resize the volume using zoom\n",
        "        resize_factor = [t / s for t, s in zip(self.target_shape, volume.shape)]\n",
        "        volume = zoom(volume, resize_factor, order=0)  # Order 0 for nearest neighbor interpolation\n",
        "\n",
        "\n",
        "        volume = torch.from_numpy(volume).float().unsqueeze(0)  # shape: [1, D, H, W]\n",
        "\n",
        "        if self.transform_3d:\n",
        "            volume = self.transform_3d(volume)\n",
        "\n",
        "        return sag_img, cor_img, volume"
      ],
      "metadata": {
        "id": "5yY0U807-Rf9"
      },
      "execution_count": 3,
      "outputs": []
    },
    {
      "cell_type": "code",
      "source": [
        "from torchvision import transforms\n",
        "\n",
        "transform_2d = transforms.Compose([\n",
        "    transforms.Resize((64,64)),\n",
        "    transforms.ToTensor()\n",
        "])\n"
      ],
      "metadata": {
        "id": "JZmXiiy8-Vd3"
      },
      "execution_count": 4,
      "outputs": []
    },
    {
      "cell_type": "code",
      "source": [
        "\n",
        "from torch.utils.data import DataLoader, random_split, Subset\n",
        "import torch\n",
        "\n",
        "# Load the full dataset\n",
        "dataset = VertebraDataset(\n",
        "    root_dir='/content/drive/MyDrive/2dto3d/data2dto3d',\n",
        "    transform_2d=transform_2d\n",
        ")\n",
        "\n",
        "# Set random seed for reproducibility\n",
        "generator = torch.Generator().manual_seed(42)\n",
        "\n",
        "# Total size and fixed eval set size\n",
        "total_size = len(dataset)\n",
        "eval_size = 4\n",
        "remaining_size = total_size - eval_size\n",
        "\n",
        "# Split out the 4 fixed evaluation samples\n",
        "remaining_dataset, eval_dataset = random_split(dataset, [remaining_size, eval_size], generator=generator)\n",
        "\n",
        "# Now split remaining into train/val/test (80/10/10 of remaining)\n",
        "train_size = int(0.8 * remaining_size)\n",
        "val_size = int(0.1 * remaining_size)\n",
        "test_size = remaining_size - train_size - val_size\n",
        "\n",
        "train_dataset, val_dataset, test_dataset = random_split(\n",
        "    remaining_dataset, [train_size, val_size, test_size], generator=generator\n",
        ")\n",
        "\n",
        "# Create DataLoaders\n",
        "train_loader = DataLoader(train_dataset, batch_size=1, shuffle=True)\n",
        "val_loader = DataLoader(val_dataset, batch_size=1, shuffle=False)\n",
        "test_loader = DataLoader(test_dataset, batch_size=1, shuffle=False)\n",
        "eval_loader = DataLoader(eval_dataset, batch_size=1, shuffle=False)\n",
        "\n",
        "print(f\"Train set size: {len(train_dataset)}, Validation set size: {len(val_dataset)}, Test set size: {len(test_dataset)}, Eval set size: {len(eval_dataset)}\")\n"
      ],
      "metadata": {
        "colab": {
          "base_uri": "https://localhost:8080/"
        },
        "id": "IM6JbLYc-Xf6",
        "outputId": "cca74d84-b3fd-460a-d3c8-49ea1efc461e"
      },
      "execution_count": 5,
      "outputs": [
        {
          "output_type": "stream",
          "name": "stdout",
          "text": [
            "Train set size: 79, Validation set size: 9, Test set size: 11, Eval set size: 4\n"
          ]
        }
      ]
    },
    {
      "cell_type": "code",
      "source": [
        "import matplotlib.pyplot as plt\n",
        "import ipywidgets as widgets\n",
        "from IPython.display import display\n",
        "import torch\n",
        "\n",
        "# Load one batch\n",
        "sag_img, cor_img, volume = next(iter(train_loader))\n",
        "\n",
        "# Convert to CPU numpy\n",
        "volume_np = volume[0, 0].cpu().numpy()  # shape: [D, H, W]\n",
        "\n",
        "# Display sagittal & coronal views\n",
        "plt.figure(figsize=(10, 4))\n",
        "plt.subplot(1, 2, 1)\n",
        "plt.imshow(sag_img[0][0].cpu(), cmap='gray')\n",
        "plt.title(\"Sagittal View\")\n",
        "\n",
        "plt.subplot(1, 2, 2)\n",
        "plt.imshow(cor_img[0][0].cpu(), cmap='gray')\n",
        "plt.title(\"Coronal View\")\n",
        "plt.show()\n",
        "\n",
        "# Interactive slider for 3D volume slices\n",
        "def show_slice(z):\n",
        "    plt.figure(figsize=(5, 5))\n",
        "    plt.imshow(volume_np[z], cmap='gray')\n",
        "    plt.title(f\"3D Volume - Axial Slice {z}\")\n",
        "    plt.axis('off')\n",
        "    plt.show()\n",
        "\n",
        "slider = widgets.IntSlider(min=0, max=volume_np.shape[0] - 1, step=1, value=volume_np.shape[0] // 2)\n",
        "widgets.interact(show_slice, z=slider)\n"
      ],
      "metadata": {
        "colab": {
          "base_uri": "https://localhost:8080/",
          "height": 937,
          "referenced_widgets": [
            "45b95a176ba6406788c3979566a6cd97",
            "a32bb6277aea49b6b927abec21c93c80",
            "029f06c9e4ba4921a13c0b5c545fde69",
            "c535b8080e1645b7b0a5b66d01b63010",
            "e23f42d4021f40ef9ceb1a741833e234",
            "4bc4db169c634b70accfa4ea157650f7",
            "af5cf91f60884b7db201e0db10faaeee"
          ]
        },
        "id": "xA8YQGmq-aoG",
        "outputId": "c80e0921-2982-4947-c298-119d1768d934"
      },
      "execution_count": 6,
      "outputs": [
        {
          "output_type": "display_data",
          "data": {
            "text/plain": [
              "<Figure size 1000x400 with 2 Axes>"
            ],
            "image/png": "[encoded data removed]"
          },
          "metadata": {}
        },
        {
          "output_type": "display_data",
          "data": {
            "text/plain": [
              "interactive(children=(IntSlider(value=32, description='z', max=63), Output()), _dom_classes=('widget-interact'…"
            ],
            "application/vnd.jupyter.widget-view+json": {
              "version_major": 2,
              "version_minor": 0,
              "model_id": "45b95a176ba6406788c3979566a6cd97"
            }
          },
          "metadata": {}
        },
        {
          "output_type": "execute_result",
          "data": {
            "text/plain": [
              "<function __main__.show_slice(z)>"
            ],
            "text/html": [
              "<div style=\"max-width:800px; border: 1px solid var(--colab-border-color);\"><style>\n",
              "      pre.function-repr-contents {\n",
              "        overflow-x: auto;\n",
              "        padding: 8px 12px;\n",
              "        max-height: 500px;\n",
              "      }\n",
              "\n",
              "      pre.function-repr-contents.function-repr-contents-collapsed {\n",
              "        cursor: pointer;\n",
              "        max-height: 100px;\n",
              "      }\n",
              "    </style>\n",
              "    <pre style=\"white-space: initial; background:\n",
              "         var(--colab-secondary-surface-color); padding: 8px 12px;\n",
              "         border-bottom: 1px solid var(--colab-border-color);\"><b>show_slice</b><br/>def show_slice(z)</pre><pre class=\"function-repr-contents function-repr-contents-collapsed\" style=\"\"><a class=\"filepath\" style=\"display:none\" href=\"#\">/content/&lt;ipython-input-6-038aa2280d7b&gt;</a>&lt;no docstring&gt;</pre></div>"
            ]
          },
          "metadata": {},
          "execution_count": 6
        }
      ]
    },
    {
      "cell_type": "code",
      "source": [
        "import torch\n",
        "import torch.nn as nn\n",
        "import torch.nn.functional as F\n",
        "\n",
        "# Encoder for Sagittal (1x64x64, i.e., Width x Height x Depth)\n",
        "class EncoderSagittal(nn.Module):\n",
        "    def __init__(self, in_channels=1, out_channels=32):\n",
        "        super().__init__()\n",
        "        self.encoder = nn.Sequential(\n",
        "            nn.Conv3d(in_channels, 16, kernel_size=(1, 3, 3), stride=(1, 2, 2), padding=(0, 1, 1)),  # [B, 1, 1, 64, 64] -> [B, 16, 1, 32, 32]\n",
        "            nn.ReLU(inplace=True),\n",
        "            nn.Conv3d(16, 32, kernel_size=(1, 3, 3), stride=(1, 2, 2), padding=(0, 1, 1)),  # [B, 16, 1, 32, 32] -> [B, 32, 1, 16, 16]\n",
        "            nn.ReLU(inplace=True)\n",
        "        )\n",
        "\n",
        "    def forward(self, x):\n",
        "        x = x.unsqueeze(2)    # Adding the depth dimension to match [B, 32, 1, 64, 64]\n",
        "        x = self.encoder(x)  # Output shape: [B, 32, 16, 16]\n",
        "        return x  # Output shape: [B, 32, 1, 16, 16]\n",
        "\n",
        "\n",
        "class EncoderCoronal(nn.Module):\n",
        "    def __init__(self, in_channels=1, out_channels=32):\n",
        "        super().__init__()\n",
        "        self.encoder = nn.Sequential(\n",
        "            nn.Conv3d(in_channels, 16, kernel_size=(3, 3, 1), stride=(2, 2, 1), padding=(1, 1, 0)),  # [B, 1, 64, 64, 1] -> [B, 16, 32, 32, 1]\n",
        "            nn.ReLU(inplace=True),\n",
        "            nn.Conv3d(16, 32, kernel_size=(3, 3, 1), stride=(2, 2, 1), padding=(1, 1, 0)),  # [B, 16, 32, 32, 1] -> [B, 32, 16, 16, 1]\n",
        "            nn.ReLU(inplace=True)\n",
        "        )\n",
        "\n",
        "    def forward(self, x):\n",
        "        x = x.unsqueeze(4)    # Adding the depth dimension to match [B, 32, 64, 64, 1]\n",
        "        x = self.encoder(x)  # Output shape: [B, 32, 16, 16]\n",
        "        return x  # Output shape: [B, 32, 16, 16, 1]\n",
        "\n",
        "\n",
        "class DepthExpander(nn.Module):\n",
        "    def __init__(self, out_depth=16):\n",
        "        super(DepthExpander, self).__init__()\n",
        "        self.out_depth = out_depth\n",
        "        # Anisotropic transposed convolution - only expands in depth dimension\n",
        "        self.expand = nn.ConvTranspose3d(32, 32, kernel_size=(2, 1, 1), stride=(2, 1, 1))\n",
        "        self.refine = nn.Sequential(\n",
        "            nn.Conv3d(32, 32, kernel_size=3, padding=1),\n",
        "            nn.ReLU(),\n",
        "            nn.Conv3d(32, 32, kernel_size=3, padding=1),\n",
        "            nn.ReLU()\n",
        "        )\n",
        "\n",
        "    def forward(self, x):\n",
        "        # print(\"Input to DepthExpander:\", x.shape)\n",
        "        while x.shape[2] < self.out_depth:\n",
        "            x = self.expand(x)\n",
        "            # print(\"  After expansion step:\", x.shape)\n",
        "        x = x[:, :, :self.out_depth, :, :]\n",
        "        # print(\"  After cropping:\", x.shape)\n",
        "        x = self.refine(x)\n",
        "        # print(\"  After refinement:\", x.shape)\n",
        "        return x\n",
        "\n",
        "\n",
        "class WidthExpander(nn.Module):\n",
        "    def __init__(self, out_width=16):\n",
        "        super(WidthExpander, self).__init__()\n",
        "        # Anisotropic transposed convolution - only expands in width dimension\n",
        "        self.out_width = out_width\n",
        "        self.expand = nn.ConvTranspose3d(32, 32, kernel_size=(1, 1, 2), stride=(1, 1, 2))\n",
        "        self.refine = nn.Sequential(\n",
        "            nn.Conv3d(32, 32, kernel_size=3, padding=1),\n",
        "            nn.ReLU(),\n",
        "            nn.Conv3d(32, 32, kernel_size=3, padding=1),\n",
        "            nn.ReLU()\n",
        "        )\n",
        "\n",
        "    def forward(self, x):\n",
        "        # print(\"Input to WidthExpander:\", x.shape)\n",
        "        while x.shape[4] < self.out_width:\n",
        "            x = self.expand(x)\n",
        "            # print(\"  After expansion step:\", x.shape)\n",
        "        x = x[:, :, :, :, :self.out_width]\n",
        "        # print(\"  After cropping:\", x.shape)\n",
        "        x = self.refine(x)\n",
        "        # print(\"  After refinement:\", x.shape)\n",
        "        return x\n",
        "\n",
        "\n",
        "class Volume3DDecoder(nn.Module):\n",
        "    def __init__(self, out_channels=64):\n",
        "        super(Volume3DDecoder, self).__init__()\n",
        "        # Modified decoder using anisotropic convolutions for controlled expansion\n",
        "        self.decoder = nn.Sequential(\n",
        "            # First upsampling stage: 16→32 in each spatial dimension\n",
        "            nn.ConvTranspose3d(64, 64, kernel_size=(4, 4, 4), stride=(2, 2, 2), padding=(1, 1, 1)),\n",
        "            nn.ReLU(),\n",
        "            nn.BatchNorm3d(64),\n",
        "\n",
        "            # Second upsampling stage: 32→64 in each spatial dimension\n",
        "            nn.ConvTranspose3d(64, 32, kernel_size=(4, 4, 4), stride=(2, 2, 2), padding=(1, 1, 1)),\n",
        "            nn.ReLU(),\n",
        "            nn.BatchNorm3d(32),\n",
        "\n",
        "            # Final refinement while maintaining dimensions\n",
        "            nn.Conv3d(32, 32, kernel_size=3, padding=1),\n",
        "            nn.ReLU(),\n",
        "            nn.BatchNorm3d(32),\n",
        "\n",
        "            # Final output layer\n",
        "            nn.Conv3d(32, out_channels, kernel_size=3, padding=1)\n",
        "        )\n",
        "\n",
        "    def forward(self, x):\n",
        "        # print(\"Input to 3D Decoder:\", x.shape)\n",
        "        x = self.decoder(x)\n",
        "        # print(\"Output from 3D Decoder:\", x.shape)\n",
        "        return x\n",
        "\n",
        "\n",
        "class TransVert(nn.Module):\n",
        "    def __init__(self, in_channels=1, out_channels=64, intermediate_depth=16):\n",
        "        super(TransVert, self).__init__()\n",
        "        self.sagittal_encoder = EncoderSagittal(in_channels=in_channels)\n",
        "        self.coronal_encoder = EncoderCoronal(in_channels=in_channels)\n",
        "        self.depth_expander = DepthExpander(out_depth=intermediate_depth)\n",
        "        self.width_expander = WidthExpander(out_width=intermediate_depth)\n",
        "        self.decoder = Volume3DDecoder(out_channels=out_channels)\n",
        "\n",
        "    def forward(self, sagittal_input, coronal_input):\n",
        "        sagittal_encoded = self.sagittal_encoder(sagittal_input)\n",
        "        coronal_encoded = self.coronal_encoder(coronal_input)\n",
        "        depth_expanded = self.depth_expander(sagittal_encoded)\n",
        "        width_expanded = self.width_expander(coronal_encoded)\n",
        "        fused = torch.cat([depth_expanded, width_expanded], dim=1)\n",
        "        volume_3d = self.decoder(fused)\n",
        "        return volume_3d"
      ],
      "metadata": {
        "id": "BbYUPIgc-4bY"
      },
      "execution_count": 8,
      "outputs": []
    },
    {
      "cell_type": "code",
      "source": [
        "sagittal_input = torch.randn(1, 1, 64, 64)  # Shape [B=2, C=1, H=64, W=64] for sagittal\n",
        "coronal_input = torch.randn(1, 1, 64, 64)   # Shape [B=2, C=1, H=64, W=64] for coronal\n",
        "\n",
        "    # Instantiate the TransVert model\n",
        "model = TransVert(in_channels=1, out_channels=1, intermediate_depth=16)\n",
        "\n",
        "    # Pass input through the model\n",
        "output = model(sagittal_input, coronal_input)\n",
        "    # Print shapes to verify\n",
        "print(\"\\n===== ARCHITECTURE FLOW =====\")\n",
        "print(f\"Sagittal Input Shape: {sagittal_input.shape}\")\n",
        "print(f\"Coronal Input Shape: {coronal_input.shape}\")\n",
        "print(f\"Final 3D Volume Output Shape: {output.shape}\")\n"
      ],
      "metadata": {
        "colab": {
          "base_uri": "https://localhost:8080/"
        },
        "id": "_TpfX7Y0-yb2",
        "outputId": "86eae1d0-7db7-45fa-8033-f2854188dec8"
      },
      "execution_count": 9,
      "outputs": [
        {
          "output_type": "stream",
          "name": "stdout",
          "text": [
            "\n",
            "===== ARCHITECTURE FLOW =====\n",
            "Sagittal Input Shape: torch.Size([1, 1, 64, 64])\n",
            "Coronal Input Shape: torch.Size([1, 1, 64, 64])\n",
            "Final 3D Volume Output Shape: torch.Size([1, 1, 64, 64, 64])\n"
          ]
        }
      ]
    },
    {
      "cell_type": "code",
      "source": [
        "class DiceLoss(nn.Module):\n",
        "    def __init__(self, smooth=1.0):\n",
        "        super(DiceLoss, self).__init__()\n",
        "        self.smooth = smooth\n",
        "\n",
        "    def forward(self, preds, targets):\n",
        "        # Apply sigmoid if not already applied\n",
        "        preds = torch.sigmoid(preds)\n",
        "\n",
        "        # Flatten predictions and targets\n",
        "        preds_flat = preds.view(preds.size(0), -1)\n",
        "        targets_flat = targets.view(targets.size(0), -1)\n",
        "\n",
        "        intersection = (preds_flat * targets_flat).sum(1)\n",
        "        dice_score = (2. * intersection + self.smooth) / (preds_flat.sum(1) + targets_flat.sum(1) + self.smooth)\n",
        "\n",
        "        dice_loss = 1 - dice_score\n",
        "        return dice_loss.mean()\n"
      ],
      "metadata": {
        "id": "yu2dzdVT-zzx"
      },
      "execution_count": 10,
      "outputs": []
    },
    {
      "cell_type": "code",
      "source": [
        "!pip install wandb\n"
      ],
      "metadata": {
        "colab": {
          "base_uri": "https://localhost:8080/"
        },
        "id": "jGr-AsOT_ARY",
        "outputId": "3aa36693-9636-4714-b3f2-5ddced08bb1d"
      },
      "execution_count": 11,
      "outputs": [
        {
          "output_type": "stream",
          "name": "stdout",
          "text": [
            "Requirement already satisfied: wandb in /usr/local/lib/python3.11/dist-packages (0.19.9)\n",
            "Requirement already satisfied: click!=8.0.0,>=7.1 in /usr/local/lib/python3.11/dist-packages (from wandb) (8.1.8)\n",
            "Requirement already satisfied: docker-pycreds>=0.4.0 in /usr/local/lib/python3.11/dist-packages (from wandb) (0.4.0)\n",
            "Requirement already satisfied: gitpython!=3.1.29,>=1.0.0 in /usr/local/lib/python3.11/dist-packages (from wandb) (3.1.44)\n",
            "Requirement already satisfied: platformdirs in /usr/local/lib/python3.11/dist-packages (from wandb) (4.3.7)\n",
            "Requirement already satisfied: protobuf!=4.21.0,!=5.28.0,<6,>=3.19.0 in /usr/local/lib/python3.11/dist-packages (from wandb) (5.29.4)\n",
            "Requirement already satisfied: psutil>=5.0.0 in /usr/local/lib/python3.11/dist-packages (from wandb) (5.9.5)\n",
            "Requirement already satisfied: pydantic<3 in /usr/local/lib/python3.11/dist-packages (from wandb) (2.11.3)\n",
            "Requirement already satisfied: pyyaml in /usr/local/lib/python3.11/dist-packages (from wandb) (6.0.2)\n",
            "Requirement already satisfied: requests<3,>=2.0.0 in /usr/local/lib/python3.11/dist-packages (from wandb) (2.32.3)\n",
            "Requirement already satisfied: sentry-sdk>=2.0.0 in /usr/local/lib/python3.11/dist-packages (from wandb) (2.26.1)\n",
            "Requirement already satisfied: setproctitle in /usr/local/lib/python3.11/dist-packages (from wandb) (1.3.5)\n",
            "Requirement already satisfied: setuptools in /usr/local/lib/python3.11/dist-packages (from wandb) (75.2.0)\n",
            "Requirement already satisfied: typing-extensions<5,>=4.4 in /usr/local/lib/python3.11/dist-packages (from wandb) (4.13.2)\n",
            "Requirement already satisfied: six>=1.4.0 in /usr/local/lib/python3.11/dist-packages (from docker-pycreds>=0.4.0->wandb) (1.17.0)\n",
            "Requirement already satisfied: gitdb<5,>=4.0.1 in /usr/local/lib/python3.11/dist-packages (from gitpython!=3.1.29,>=1.0.0->wandb) (4.0.12)\n",
            "Requirement already satisfied: annotated-types>=0.6.0 in /usr/local/lib/python3.11/dist-packages (from pydantic<3->wandb) (0.7.0)\n",
            "Requirement already satisfied: pydantic-core==2.33.1 in /usr/local/lib/python3.11/dist-packages (from pydantic<3->wandb) (2.33.1)\n",
            "Requirement already satisfied: typing-inspection>=0.4.0 in /usr/local/lib/python3.11/dist-packages (from pydantic<3->wandb) (0.4.0)\n",
            "Requirement already satisfied: charset-normalizer<4,>=2 in /usr/local/lib/python3.11/dist-packages (from requests<3,>=2.0.0->wandb) (3.4.1)\n",
            "Requirement already satisfied: idna<4,>=2.5 in /usr/local/lib/python3.11/dist-packages (from requests<3,>=2.0.0->wandb) (3.10)\n",
            "Requirement already satisfied: urllib3<3,>=1.21.1 in /usr/local/lib/python3.11/dist-packages (from requests<3,>=2.0.0->wandb) (2.3.0)\n",
            "Requirement already satisfied: certifi>=2017.4.17 in /usr/local/lib/python3.11/dist-packages (from requests<3,>=2.0.0->wandb) (2025.1.31)\n",
            "Requirement already satisfied: smmap<6,>=3.0.1 in /usr/local/lib/python3.11/dist-packages (from gitdb<5,>=4.0.1->gitpython!=3.1.29,>=1.0.0->wandb) (5.0.2)\n"
          ]
        }
      ]
    },
    {
      "cell_type": "code",
      "source": [
        "import wandb\n",
        "!wandb login 47db746f38dd6216f60f4b6ce9c5d98e507dd6a3"
      ],
      "metadata": {
        "colab": {
          "base_uri": "https://localhost:8080/"
        },
        "id": "uYvQubkB_DBF",
        "outputId": "2d2ee067-213b-45eb-8173-40390639585e"
      },
      "execution_count": 12,
      "outputs": [
        {
          "output_type": "stream",
          "name": "stdout",
          "text": [
            "\u001b[34m\u001b[1mwandb\u001b[0m: No netrc file found, creating one.\n",
            "\u001b[34m\u001b[1mwandb\u001b[0m: Appending key for api.wandb.ai to your netrc file: /root/.netrc\n",
            "\u001b[34m\u001b[1mwandb\u001b[0m: W&B API key is configured. Use \u001b[1m`wandb login --relogin`\u001b[0m to force relogin\n"
          ]
        }
      ]
    },
    {
      "cell_type": "code",
      "source": [
        "import torch\n",
        "import torch.optim as optim\n",
        "import matplotlib.pyplot as plt\n",
        "from torch.utils.data import DataLoader\n",
        "from tqdm import tqdm\n",
        "import wandb\n",
        "\n",
        "# --- Configuration ---\n",
        "device = torch.device(\"cuda\" if torch.cuda.is_available() else \"cpu\")\n",
        "num_epochs = 50\n",
        "lr = 1e-4\n",
        "use_wandb = True  # Toggle wandb logging\n",
        "\n",
        "# --- Model, Loss, Optimizer ---\n",
        "model = TransVert(in_channels=1, out_channels=1, intermediate_depth=16).to(device)\n",
        "criterion = DiceLoss()  # <-- Using your custom DiceLoss\n",
        "optimizer = optim.Adam(model.parameters(), lr=lr)\n",
        "\n",
        "# --- Optional: Initialize wandb ---\n",
        "if use_wandb:\n",
        "    wandb.init(project=\"TransvertFinal\", config={\"epochs\": num_epochs, \"lr\": lr})\n",
        "\n",
        "# --- Track losses ---\n",
        "batch_losses, train_epoch_losses, val_epoch_losses = [], [], []\n",
        "\n",
        "# --- Training Loop ---\n",
        "for epoch in range(num_epochs):\n",
        "    model.train()\n",
        "    running_loss, batch_loss_epoch = 0.0, []\n",
        "\n",
        "    for batch_idx, (sagittal, coronal, target) in enumerate(tqdm(train_loader, desc=f\"Epoch {epoch+1}/{num_epochs}\")):\n",
        "        sagittal, coronal, target = sagittal.to(device), coronal.to(device), target.to(device)\n",
        "\n",
        "        optimizer.zero_grad()\n",
        "        output = model(sagittal, coronal)  # Output shape: [B, 1, 64, 64, 64]\n",
        "\n",
        "        loss = criterion(output, target)   # Compute Dice loss\n",
        "        loss.backward()\n",
        "        optimizer.step()\n",
        "\n",
        "        loss_value = loss.item()\n",
        "        running_loss += loss_value\n",
        "        batch_loss_epoch.append(loss_value)\n",
        "\n",
        "        # Log batch loss to wandb\n",
        "        if use_wandb:\n",
        "            wandb.log({\n",
        "                \"training_batchwise_loss\": loss_value\n",
        "            })\n",
        "\n",
        "    avg_train_loss = running_loss / len(train_loader)\n",
        "    train_epoch_losses.append(avg_train_loss)\n",
        "    batch_losses.append(batch_loss_epoch)\n",
        "\n",
        "    # --- Validation Loop ---\n",
        "    model.eval()\n",
        "    val_loss = 0.0\n",
        "    with torch.no_grad():\n",
        "        for val_batch_idx, (sagittal, coronal, target) in enumerate(val_loader):\n",
        "            sagittal, coronal, target = sagittal.to(device), coronal.to(device), target.to(device)\n",
        "            output = model(sagittal, coronal)\n",
        "            loss = criterion(output, target)  # Use Dice loss\n",
        "            val_loss += loss.item()\n",
        "\n",
        "            # Log batch validation loss\n",
        "            if use_wandb:\n",
        "                wandb.log({\n",
        "                    \"val_batch_wise_loss\": loss.item()\n",
        "                })\n",
        "\n",
        "    avg_val_loss = val_loss / len(val_loader)\n",
        "    val_epoch_losses.append(avg_val_loss)\n",
        "\n",
        "    # --- Logging Epoch Losses ---\n",
        "    if use_wandb:\n",
        "        wandb.log({\n",
        "            \"epoch\": epoch + 1,\n",
        "            \"train_loss\": avg_train_loss,\n",
        "            \"val_loss\": avg_val_loss\n",
        "        })\n",
        "\n",
        "    print(f\"[Epoch {epoch+1}] Train Dice Loss: {avg_train_loss:.4f} | Val Dice Loss: {avg_val_loss:.4f}\")\n",
        "\n",
        "# --- Finish wandb ---\n",
        "if use_wandb:\n",
        "    wandb.finish()\n",
        "\n",
        "# --- Plotting ---\n",
        "plt.figure(figsize=(12, 6))\n",
        "\n",
        "# Epoch-wise Loss\n",
        "plt.subplot(1, 2, 1)\n",
        "plt.plot(train_epoch_losses, label='Train Loss')\n",
        "plt.plot(val_epoch_losses, label='Val Loss')\n",
        "plt.xlabel(\"Epoch\")\n",
        "plt.ylabel(\"Loss\")\n",
        "plt.title(\"Epoch-wise Loss\")\n",
        "plt.legend()\n",
        "\n",
        "# Batch-wise Loss\n",
        "plt.subplot(1, 2, 2)\n",
        "flattened = [loss for epoch_losses in batch_losses for loss in epoch_losses]\n",
        "plt.plot(flattened, label='Batch Loss')\n",
        "plt.xlabel(\"Batch\")\n",
        "plt.ylabel(\"Loss\")\n",
        "plt.title(\"Batch-wise Loss\")\n",
        "plt.legend()\n",
        "\n",
        "plt.tight_layout()\n",
        "plt.show()\n"
      ],
      "metadata": {
        "colab": {
          "base_uri": "https://localhost:8080/",
          "height": 1000
        },
        "id": "JEoX9wkZ_HyQ",
        "outputId": "77ea1e32-1843-4b7f-b0fa-222365dac890"
      },
      "execution_count": 13,
      "outputs": [
        {
          "output_type": "stream",
          "name": "stderr",
          "text": [
            "\u001b[34m\u001b[1mwandb\u001b[0m: Using wandb-core as the SDK backend.  Please refer to https://wandb.me/wandb-core for more information.\n",
            "\u001b[34m\u001b[1mwandb\u001b[0m: Currently logged in as: \u001b[33mjeevan-neupane003\u001b[0m (\u001b[33mjeevan-neupane003-khalti\u001b[0m) to \u001b[32mhttps://api.wandb.ai\u001b[0m. Use \u001b[1m`wandb login --relogin`\u001b[0m to force relogin\n"
          ]
        },
        {
          "output_type": "display_data",
          "data": {
            "text/plain": [
              "<IPython.core.display.HTML object>"
            ],
            "text/html": [
              "Tracking run with wandb version 0.19.9"
            ]
          },
          "metadata": {}
        },
        {
          "output_type": "display_data",
          "data": {
            "text/plain": [
              "<IPython.core.display.HTML object>"
            ],
            "text/html": [
              "Run data is saved locally in <code>/content/wandb/run-20250425_032701-eookrct5</code>"
            ]
          },
          "metadata": {}
        },
        {
          "output_type": "display_data",
          "data": {
            "text/plain": [
              "<IPython.core.display.HTML object>"
            ],
            "text/html": [
              "Syncing run <strong><a href='https://wandb.ai/jeevan-neupane003-khalti/TransvertFinal/runs/eookrct5' target=\"_blank\">fiery-fire-5</a></strong> to <a href='https://wandb.ai/jeevan-neupane003-khalti/TransvertFinal' target=\"_blank\">Weights & Biases</a> (<a href='https://wandb.me/developer-guide' target=\"_blank\">docs</a>)<br>"
            ]
          },
          "metadata": {}
        },
        {
          "output_type": "display_data",
          "data": {
            "text/plain": [
              "<IPython.core.display.HTML object>"
            ],
            "text/html": [
              " View project at <a href='https://wandb.ai/jeevan-neupane003-khalti/TransvertFinal' target=\"_blank\">https://wandb.ai/jeevan-neupane003-khalti/TransvertFinal</a>"
            ]
          },
          "metadata": {}
        },
        {
          "output_type": "display_data",
          "data": {
            "text/plain": [
              "<IPython.core.display.HTML object>"
            ],
            "text/html": [
              " View run at <a href='https://wandb.ai/jeevan-neupane003-khalti/TransvertFinal/runs/eookrct5' target=\"_blank\">https://wandb.ai/jeevan-neupane003-khalti/TransvertFinal/runs/eookrct5</a>"
            ]
          },
          "metadata": {}
        },
        {
          "output_type": "stream",
          "name": "stderr",
          "text": [
            "Epoch 1/50: 100%|██████████| 79/79 [02:52<00:00,  2.18s/it]\n"
          ]
        },
        {
          "output_type": "stream",
          "name": "stdout",
          "text": [
            "[Epoch 1] Train Dice Loss: 0.8620 | Val Dice Loss: 0.8811\n"
          ]
        },
        {
          "output_type": "stream",
          "name": "stderr",
          "text": [
            "Epoch 2/50: 100%|██████████| 79/79 [00:29<00:00,  2.67it/s]\n"
          ]
        },
        {
          "output_type": "stream",
          "name": "stdout",
          "text": [
            "[Epoch 2] Train Dice Loss: 0.7631 | Val Dice Loss: 0.7461\n"
          ]
        },
        {
          "output_type": "stream",
          "name": "stderr",
          "text": [
            "Epoch 3/50: 100%|██████████| 79/79 [00:30<00:00,  2.61it/s]\n"
          ]
        },
        {
          "output_type": "stream",
          "name": "stdout",
          "text": [
            "[Epoch 3] Train Dice Loss: 0.7299 | Val Dice Loss: 0.7297\n"
          ]
        },
        {
          "output_type": "stream",
          "name": "stderr",
          "text": [
            "Epoch 4/50: 100%|██████████| 79/79 [00:30<00:00,  2.63it/s]\n"
          ]
        },
        {
          "output_type": "stream",
          "name": "stdout",
          "text": [
            "[Epoch 4] Train Dice Loss: 0.7213 | Val Dice Loss: 0.7235\n"
          ]
        },
        {
          "output_type": "stream",
          "name": "stderr",
          "text": [
            "Epoch 5/50: 100%|██████████| 79/79 [00:30<00:00,  2.63it/s]\n"
          ]
        },
        {
          "output_type": "stream",
          "name": "stdout",
          "text": [
            "[Epoch 5] Train Dice Loss: 0.7037 | Val Dice Loss: 0.7078\n"
          ]
        },
        {
          "output_type": "stream",
          "name": "stderr",
          "text": [
            "Epoch 6/50: 100%|██████████| 79/79 [00:29<00:00,  2.65it/s]\n"
          ]
        },
        {
          "output_type": "stream",
          "name": "stdout",
          "text": [
            "[Epoch 6] Train Dice Loss: 0.6847 | Val Dice Loss: 0.6814\n"
          ]
        },
        {
          "output_type": "stream",
          "name": "stderr",
          "text": [
            "Epoch 7/50: 100%|██████████| 79/79 [00:29<00:00,  2.65it/s]\n"
          ]
        },
        {
          "output_type": "stream",
          "name": "stdout",
          "text": [
            "[Epoch 7] Train Dice Loss: 0.6618 | Val Dice Loss: 0.6360\n"
          ]
        },
        {
          "output_type": "stream",
          "name": "stderr",
          "text": [
            "Epoch 8/50: 100%|██████████| 79/79 [00:30<00:00,  2.63it/s]\n"
          ]
        },
        {
          "output_type": "stream",
          "name": "stdout",
          "text": [
            "[Epoch 8] Train Dice Loss: 0.5984 | Val Dice Loss: 0.5423\n"
          ]
        },
        {
          "output_type": "stream",
          "name": "stderr",
          "text": [
            "Epoch 9/50: 100%|██████████| 79/79 [00:29<00:00,  2.66it/s]\n"
          ]
        },
        {
          "output_type": "stream",
          "name": "stdout",
          "text": [
            "[Epoch 9] Train Dice Loss: 0.5336 | Val Dice Loss: 0.5258\n"
          ]
        },
        {
          "output_type": "stream",
          "name": "stderr",
          "text": [
            "Epoch 10/50: 100%|██████████| 79/79 [00:29<00:00,  2.66it/s]\n"
          ]
        },
        {
          "output_type": "stream",
          "name": "stdout",
          "text": [
            "[Epoch 10] Train Dice Loss: 0.4939 | Val Dice Loss: 0.5181\n"
          ]
        },
        {
          "output_type": "stream",
          "name": "stderr",
          "text": [
            "Epoch 11/50: 100%|██████████| 79/79 [00:29<00:00,  2.64it/s]\n"
          ]
        },
        {
          "output_type": "stream",
          "name": "stdout",
          "text": [
            "[Epoch 11] Train Dice Loss: 0.4918 | Val Dice Loss: 0.4965\n"
          ]
        },
        {
          "output_type": "stream",
          "name": "stderr",
          "text": [
            "Epoch 12/50: 100%|██████████| 79/79 [00:29<00:00,  2.65it/s]\n"
          ]
        },
        {
          "output_type": "stream",
          "name": "stdout",
          "text": [
            "[Epoch 12] Train Dice Loss: 0.4655 | Val Dice Loss: 0.4930\n"
          ]
        },
        {
          "output_type": "stream",
          "name": "stderr",
          "text": [
            "Epoch 13/50: 100%|██████████| 79/79 [00:29<00:00,  2.67it/s]\n"
          ]
        },
        {
          "output_type": "stream",
          "name": "stdout",
          "text": [
            "[Epoch 13] Train Dice Loss: 0.4562 | Val Dice Loss: 0.4983\n"
          ]
        },
        {
          "output_type": "stream",
          "name": "stderr",
          "text": [
            "Epoch 14/50: 100%|██████████| 79/79 [00:29<00:00,  2.66it/s]\n"
          ]
        },
        {
          "output_type": "stream",
          "name": "stdout",
          "text": [
            "[Epoch 14] Train Dice Loss: 0.4508 | Val Dice Loss: 0.4817\n"
          ]
        },
        {
          "output_type": "stream",
          "name": "stderr",
          "text": [
            "Epoch 15/50: 100%|██████████| 79/79 [00:29<00:00,  2.65it/s]\n"
          ]
        },
        {
          "output_type": "stream",
          "name": "stdout",
          "text": [
            "[Epoch 15] Train Dice Loss: 0.4439 | Val Dice Loss: 0.4738\n"
          ]
        },
        {
          "output_type": "stream",
          "name": "stderr",
          "text": [
            "Epoch 16/50: 100%|██████████| 79/79 [00:29<00:00,  2.65it/s]\n"
          ]
        },
        {
          "output_type": "stream",
          "name": "stdout",
          "text": [
            "[Epoch 16] Train Dice Loss: 0.4397 | Val Dice Loss: 0.4817\n"
          ]
        },
        {
          "output_type": "stream",
          "name": "stderr",
          "text": [
            "Epoch 17/50: 100%|██████████| 79/79 [00:29<00:00,  2.65it/s]\n"
          ]
        },
        {
          "output_type": "stream",
          "name": "stdout",
          "text": [
            "[Epoch 17] Train Dice Loss: 0.4348 | Val Dice Loss: 0.4673\n"
          ]
        },
        {
          "output_type": "stream",
          "name": "stderr",
          "text": [
            "Epoch 18/50: 100%|██████████| 79/79 [00:29<00:00,  2.65it/s]\n"
          ]
        },
        {
          "output_type": "stream",
          "name": "stdout",
          "text": [
            "[Epoch 18] Train Dice Loss: 0.4315 | Val Dice Loss: 0.4610\n"
          ]
        },
        {
          "output_type": "stream",
          "name": "stderr",
          "text": [
            "Epoch 19/50: 100%|██████████| 79/79 [00:29<00:00,  2.63it/s]\n"
          ]
        },
        {
          "output_type": "stream",
          "name": "stdout",
          "text": [
            "[Epoch 19] Train Dice Loss: 0.4259 | Val Dice Loss: 0.4709\n"
          ]
        },
        {
          "output_type": "stream",
          "name": "stderr",
          "text": [
            "Epoch 20/50: 100%|██████████| 79/79 [00:29<00:00,  2.64it/s]\n"
          ]
        },
        {
          "output_type": "stream",
          "name": "stdout",
          "text": [
            "[Epoch 20] Train Dice Loss: 0.4213 | Val Dice Loss: 0.4559\n"
          ]
        },
        {
          "output_type": "stream",
          "name": "stderr",
          "text": [
            "Epoch 21/50: 100%|██████████| 79/79 [00:29<00:00,  2.66it/s]\n"
          ]
        },
        {
          "output_type": "stream",
          "name": "stdout",
          "text": [
            "[Epoch 21] Train Dice Loss: 0.4192 | Val Dice Loss: 0.4514\n"
          ]
        },
        {
          "output_type": "stream",
          "name": "stderr",
          "text": [
            "Epoch 22/50: 100%|██████████| 79/79 [00:29<00:00,  2.65it/s]\n"
          ]
        },
        {
          "output_type": "stream",
          "name": "stdout",
          "text": [
            "[Epoch 22] Train Dice Loss: 0.4137 | Val Dice Loss: 0.4485\n"
          ]
        },
        {
          "output_type": "stream",
          "name": "stderr",
          "text": [
            "Epoch 23/50: 100%|██████████| 79/79 [00:29<00:00,  2.67it/s]\n"
          ]
        },
        {
          "output_type": "stream",
          "name": "stdout",
          "text": [
            "[Epoch 23] Train Dice Loss: 0.4149 | Val Dice Loss: 0.4454\n"
          ]
        },
        {
          "output_type": "stream",
          "name": "stderr",
          "text": [
            "Epoch 24/50: 100%|██████████| 79/79 [00:29<00:00,  2.67it/s]\n"
          ]
        },
        {
          "output_type": "stream",
          "name": "stdout",
          "text": [
            "[Epoch 24] Train Dice Loss: 0.4119 | Val Dice Loss: 0.4382\n"
          ]
        },
        {
          "output_type": "stream",
          "name": "stderr",
          "text": [
            "Epoch 25/50: 100%|██████████| 79/79 [00:29<00:00,  2.66it/s]\n"
          ]
        },
        {
          "output_type": "stream",
          "name": "stdout",
          "text": [
            "[Epoch 25] Train Dice Loss: 0.4073 | Val Dice Loss: 0.4431\n"
          ]
        },
        {
          "output_type": "stream",
          "name": "stderr",
          "text": [
            "Epoch 26/50: 100%|██████████| 79/79 [00:29<00:00,  2.66it/s]\n"
          ]
        },
        {
          "output_type": "stream",
          "name": "stdout",
          "text": [
            "[Epoch 26] Train Dice Loss: 0.4058 | Val Dice Loss: 0.4352\n"
          ]
        },
        {
          "output_type": "stream",
          "name": "stderr",
          "text": [
            "Epoch 27/50: 100%|██████████| 79/79 [00:29<00:00,  2.64it/s]\n"
          ]
        },
        {
          "output_type": "stream",
          "name": "stdout",
          "text": [
            "[Epoch 27] Train Dice Loss: 0.4037 | Val Dice Loss: 0.4349\n"
          ]
        },
        {
          "output_type": "stream",
          "name": "stderr",
          "text": [
            "Epoch 28/50: 100%|██████████| 79/79 [00:29<00:00,  2.67it/s]\n"
          ]
        },
        {
          "output_type": "stream",
          "name": "stdout",
          "text": [
            "[Epoch 28] Train Dice Loss: 0.4025 | Val Dice Loss: 0.4449\n"
          ]
        },
        {
          "output_type": "stream",
          "name": "stderr",
          "text": [
            "Epoch 29/50: 100%|██████████| 79/79 [00:29<00:00,  2.64it/s]\n"
          ]
        },
        {
          "output_type": "stream",
          "name": "stdout",
          "text": [
            "[Epoch 29] Train Dice Loss: 0.3985 | Val Dice Loss: 0.4389\n"
          ]
        },
        {
          "output_type": "stream",
          "name": "stderr",
          "text": [
            "Epoch 30/50: 100%|██████████| 79/79 [00:29<00:00,  2.64it/s]\n"
          ]
        },
        {
          "output_type": "stream",
          "name": "stdout",
          "text": [
            "[Epoch 30] Train Dice Loss: 0.3977 | Val Dice Loss: 0.4377\n"
          ]
        },
        {
          "output_type": "stream",
          "name": "stderr",
          "text": [
            "Epoch 31/50: 100%|██████████| 79/79 [00:29<00:00,  2.65it/s]\n"
          ]
        },
        {
          "output_type": "stream",
          "name": "stdout",
          "text": [
            "[Epoch 31] Train Dice Loss: 0.3948 | Val Dice Loss: 0.4375\n"
          ]
        },
        {
          "output_type": "stream",
          "name": "stderr",
          "text": [
            "Epoch 32/50: 100%|██████████| 79/79 [00:29<00:00,  2.66it/s]\n"
          ]
        },
        {
          "output_type": "stream",
          "name": "stdout",
          "text": [
            "[Epoch 32] Train Dice Loss: 0.3924 | Val Dice Loss: 0.4312\n"
          ]
        },
        {
          "output_type": "stream",
          "name": "stderr",
          "text": [
            "Epoch 33/50: 100%|██████████| 79/79 [00:29<00:00,  2.65it/s]\n"
          ]
        },
        {
          "output_type": "stream",
          "name": "stdout",
          "text": [
            "[Epoch 33] Train Dice Loss: 0.3937 | Val Dice Loss: 0.4273\n"
          ]
        },
        {
          "output_type": "stream",
          "name": "stderr",
          "text": [
            "Epoch 34/50: 100%|██████████| 79/79 [00:29<00:00,  2.67it/s]\n"
          ]
        },
        {
          "output_type": "stream",
          "name": "stdout",
          "text": [
            "[Epoch 34] Train Dice Loss: 0.3885 | Val Dice Loss: 0.4297\n"
          ]
        },
        {
          "output_type": "stream",
          "name": "stderr",
          "text": [
            "Epoch 35/50: 100%|██████████| 79/79 [00:29<00:00,  2.65it/s]\n"
          ]
        },
        {
          "output_type": "stream",
          "name": "stdout",
          "text": [
            "[Epoch 35] Train Dice Loss: 0.3898 | Val Dice Loss: 0.4298\n"
          ]
        },
        {
          "output_type": "stream",
          "name": "stderr",
          "text": [
            "Epoch 36/50: 100%|██████████| 79/79 [00:30<00:00,  2.63it/s]\n"
          ]
        },
        {
          "output_type": "stream",
          "name": "stdout",
          "text": [
            "[Epoch 36] Train Dice Loss: 0.3858 | Val Dice Loss: 0.4377\n"
          ]
        },
        {
          "output_type": "stream",
          "name": "stderr",
          "text": [
            "Epoch 37/50: 100%|██████████| 79/79 [00:29<00:00,  2.64it/s]\n"
          ]
        },
        {
          "output_type": "stream",
          "name": "stdout",
          "text": [
            "[Epoch 37] Train Dice Loss: 0.3842 | Val Dice Loss: 0.4316\n"
          ]
        },
        {
          "output_type": "stream",
          "name": "stderr",
          "text": [
            "Epoch 38/50: 100%|██████████| 79/79 [00:29<00:00,  2.65it/s]\n"
          ]
        },
        {
          "output_type": "stream",
          "name": "stdout",
          "text": [
            "[Epoch 38] Train Dice Loss: 0.3795 | Val Dice Loss: 0.4349\n"
          ]
        },
        {
          "output_type": "stream",
          "name": "stderr",
          "text": [
            "Epoch 39/50: 100%|██████████| 79/79 [00:29<00:00,  2.66it/s]\n"
          ]
        },
        {
          "output_type": "stream",
          "name": "stdout",
          "text": [
            "[Epoch 39] Train Dice Loss: 0.3807 | Val Dice Loss: 0.4312\n"
          ]
        },
        {
          "output_type": "stream",
          "name": "stderr",
          "text": [
            "Epoch 40/50: 100%|██████████| 79/79 [00:29<00:00,  2.65it/s]\n"
          ]
        },
        {
          "output_type": "stream",
          "name": "stdout",
          "text": [
            "[Epoch 40] Train Dice Loss: 0.3787 | Val Dice Loss: 0.4268\n"
          ]
        },
        {
          "output_type": "stream",
          "name": "stderr",
          "text": [
            "Epoch 41/50: 100%|██████████| 79/79 [00:29<00:00,  2.67it/s]\n"
          ]
        },
        {
          "output_type": "stream",
          "name": "stdout",
          "text": [
            "[Epoch 41] Train Dice Loss: 0.3760 | Val Dice Loss: 0.4303\n"
          ]
        },
        {
          "output_type": "stream",
          "name": "stderr",
          "text": [
            "Epoch 42/50: 100%|██████████| 79/79 [00:29<00:00,  2.66it/s]\n"
          ]
        },
        {
          "output_type": "stream",
          "name": "stdout",
          "text": [
            "[Epoch 42] Train Dice Loss: 0.3745 | Val Dice Loss: 0.4238\n"
          ]
        },
        {
          "output_type": "stream",
          "name": "stderr",
          "text": [
            "Epoch 43/50: 100%|██████████| 79/79 [00:29<00:00,  2.65it/s]\n"
          ]
        },
        {
          "output_type": "stream",
          "name": "stdout",
          "text": [
            "[Epoch 43] Train Dice Loss: 0.3709 | Val Dice Loss: 0.4215\n"
          ]
        },
        {
          "output_type": "stream",
          "name": "stderr",
          "text": [
            "Epoch 44/50: 100%|██████████| 79/79 [00:30<00:00,  2.63it/s]\n"
          ]
        },
        {
          "output_type": "stream",
          "name": "stdout",
          "text": [
            "[Epoch 44] Train Dice Loss: 0.3689 | Val Dice Loss: 0.4314\n"
          ]
        },
        {
          "output_type": "stream",
          "name": "stderr",
          "text": [
            "Epoch 45/50: 100%|██████████| 79/79 [00:29<00:00,  2.66it/s]\n"
          ]
        },
        {
          "output_type": "stream",
          "name": "stdout",
          "text": [
            "[Epoch 45] Train Dice Loss: 0.3666 | Val Dice Loss: 0.4296\n"
          ]
        },
        {
          "output_type": "stream",
          "name": "stderr",
          "text": [
            "Epoch 46/50: 100%|██████████| 79/79 [00:29<00:00,  2.67it/s]\n"
          ]
        },
        {
          "output_type": "stream",
          "name": "stdout",
          "text": [
            "[Epoch 46] Train Dice Loss: 0.3645 | Val Dice Loss: 0.4231\n"
          ]
        },
        {
          "output_type": "stream",
          "name": "stderr",
          "text": [
            "Epoch 47/50: 100%|██████████| 79/79 [00:29<00:00,  2.67it/s]\n"
          ]
        },
        {
          "output_type": "stream",
          "name": "stdout",
          "text": [
            "[Epoch 47] Train Dice Loss: 0.3626 | Val Dice Loss: 0.4188\n"
          ]
        },
        {
          "output_type": "stream",
          "name": "stderr",
          "text": [
            "Epoch 48/50: 100%|██████████| 79/79 [00:29<00:00,  2.67it/s]\n"
          ]
        },
        {
          "output_type": "stream",
          "name": "stdout",
          "text": [
            "[Epoch 48] Train Dice Loss: 0.3621 | Val Dice Loss: 0.4214\n"
          ]
        },
        {
          "output_type": "stream",
          "name": "stderr",
          "text": [
            "Epoch 49/50: 100%|██████████| 79/79 [00:29<00:00,  2.68it/s]\n"
          ]
        },
        {
          "output_type": "stream",
          "name": "stdout",
          "text": [
            "[Epoch 49] Train Dice Loss: 0.3577 | Val Dice Loss: 0.4235\n"
          ]
        },
        {
          "output_type": "stream",
          "name": "stderr",
          "text": [
            "Epoch 50/50: 100%|██████████| 79/79 [00:29<00:00,  2.68it/s]\n"
          ]
        },
        {
          "output_type": "stream",
          "name": "stdout",
          "text": [
            "[Epoch 50] Train Dice Loss: 0.3540 | Val Dice Loss: 0.4211\n"
          ]
        },
        {
          "output_type": "display_data",
          "data": {
            "text/plain": [
              "<IPython.core.display.HTML object>"
            ],
            "text/html": []
          },
          "metadata": {}
        },
        {
          "output_type": "display_data",
          "data": {
            "text/plain": [
              "<IPython.core.display.HTML object>"
            ],
            "text/html": [
              "<br>    <style><br>        .wandb-row {<br>            display: flex;<br>            flex-direction: row;<br>            flex-wrap: wrap;<br>            justify-content: flex-start;<br>            width: 100%;<br>        }<br>        .wandb-col {<br>            display: flex;<br>            flex-direction: column;<br>            flex-basis: 100%;<br>            flex: 1;<br>            padding: 10px;<br>        }<br>    </style><br><div class=\"wandb-row\"><div class=\"wandb-col\"><h3>Run history:</h3><br/><table class=\"wandb\"><tr><td>epoch</td><td>▁▁▁▂▂▂▂▂▃▃▃▃▃▃▄▄▄▄▄▄▅▅▅▅▅▆▆▆▆▆▆▇▇▇▇▇▇███</td></tr><tr><td>train_loss</td><td>█▇▆▆▆▄▃▃▃▃▂▂▂▂▂▂▂▂▂▂▂▂▂▂▂▂▂▁▁▁▁▁▁▁▁▁▁▁▁▁</td></tr><tr><td>training_batchwise_loss</td><td>██▇▇▆▆▄▄▄▄▃▃▂▃▂▃▂▄▂▂▃▃▂▂▂▂▃▂▃▂▃▅▂▂▂▂▂▁▂▂</td></tr><tr><td>val_batch_wise_loss</td><td>██▆▆▆▄▃▄▃▄▁▃▁▄▂▂▃▁▂▃▂▁▄▃▄▄▁▃▄▃▁▂▁▂▃▃▁▂▃▃</td></tr><tr><td>val_loss</td><td>█▆▆▅▅▃▃▃▂▂▂▂▂▂▂▁▁▁▁▁▁▁▁▁▁▁▁▁▁▁▁▁▁▁▁▁▁▁▁▁</td></tr></table><br/></div><div class=\"wandb-col\"><h3>Run summary:</h3><br/><table class=\"wandb\"><tr><td>epoch</td><td>50</td></tr><tr><td>train_loss</td><td>0.35403</td></tr><tr><td>training_batchwise_loss</td><td>0.41556</td></tr><tr><td>val_batch_wise_loss</td><td>0.32157</td></tr><tr><td>val_loss</td><td>0.42112</td></tr></table><br/></div></div>"
            ]
          },
          "metadata": {}
        },
        {
          "output_type": "display_data",
          "data": {
            "text/plain": [
              "<IPython.core.display.HTML object>"
            ],
            "text/html": [
              " View run <strong style=\"color:#cdcd00\">fiery-fire-5</strong> at: <a href='https://wandb.ai/jeevan-neupane003-khalti/TransvertFinal/runs/eookrct5' target=\"_blank\">https://wandb.ai/jeevan-neupane003-khalti/TransvertFinal/runs/eookrct5</a><br> View project at: <a href='https://wandb.ai/jeevan-neupane003-khalti/TransvertFinal' target=\"_blank\">https://wandb.ai/jeevan-neupane003-khalti/TransvertFinal</a><br>Synced 5 W&B file(s), 0 media file(s), 0 artifact file(s) and 0 other file(s)"
            ]
          },
          "metadata": {}
        },
        {
          "output_type": "display_data",
          "data": {
            "text/plain": [
              "<IPython.core.display.HTML object>"
            ],
            "text/html": [
              "Find logs at: <code>./wandb/run-20250425_032701-eookrct5/logs</code>"
            ]
          },
          "metadata": {}
        },
        {
          "output_type": "display_data",
          "data": {
            "text/plain": [
              "<Figure size 1200x600 with 2 Axes>"
            ],
            "image/png": "[encoded data removed]"
          },
          "metadata": {}
        }
      ]
    },
    {
      "cell_type": "code",
      "source": [
        "import torch\n",
        "import torch.optim as optim\n",
        "from tqdm import tqdm\n",
        "import wandb\n",
        "import matplotlib.pyplot as plt\n",
        "\n",
        "# --- Setup ---\n",
        "device = torch.device(\"cuda\" if torch.cuda.is_available() else \"cpu\")\n",
        "num_epochs = 20\n",
        "lr = 1e-4\n",
        "use_wandb = True\n",
        "\n",
        "model = TransVert(in_channels=1, out_channels=1, intermediate_depth=16).to(device)\n",
        "criterion = DiceLoss()\n",
        "optimizer = optim.Adam(model.parameters(), lr=lr)\n",
        "\n",
        "if use_wandb:\n",
        "    wandb.init(project=\"TransvertFinal\", config={\"epochs\": num_epochs, \"lr\": lr})\n",
        "\n",
        "# --- Track Losses ---\n",
        "batch_losses, train_epoch_losses, val_epoch_losses = [], [], []\n",
        "\n",
        "# --- Dice Score Function ---\n",
        "def dice_score_binary(pred, target, threshold=0.5, eps=1e-6):\n",
        "    pred = (pred > threshold).float()\n",
        "    target = (target > threshold).float()\n",
        "    intersection = (pred * target).sum(dim=(1, 2, 3, 4))\n",
        "    union = pred.sum(dim=(1, 2, 3, 4)) + target.sum(dim=(1, 2, 3, 4))\n",
        "    dice = (2. * intersection + eps) / (union + eps)\n",
        "    return dice.mean()\n",
        "\n",
        "# --- Training Loop ---\n",
        "for epoch in range(num_epochs):\n",
        "    model.train()\n",
        "    running_loss, batch_loss_epoch = 0.0, []\n",
        "\n",
        "    for batch_idx, (sagittal, coronal, target) in enumerate(tqdm(train_loader, desc=f\"Epoch {epoch+1}/{num_epochs}\")):\n",
        "        sagittal, coronal, target = sagittal.to(device), coronal.to(device), target.to(device)\n",
        "\n",
        "        optimizer.zero_grad()\n",
        "        output = model(sagittal, coronal)\n",
        "\n",
        "        loss = criterion(output, target)\n",
        "        loss.backward()\n",
        "        optimizer.step()\n",
        "\n",
        "        loss_value = loss.item()\n",
        "        running_loss += loss_value\n",
        "        batch_loss_epoch.append(loss_value)\n",
        "\n",
        "        if use_wandb:\n",
        "            wandb.log({\"training_batchwise_loss\": loss_value})\n",
        "\n",
        "        # --- Inline Evaluation on Eval Set ---\n",
        "        model.eval()\n",
        "        eval_dice_scores, eval_losses = [], []\n",
        "\n",
        "        with torch.no_grad():\n",
        "            for eval_idx, (s_eval, c_eval, t_eval) in enumerate(eval_loader):\n",
        "                s_eval, c_eval, t_eval = s_eval.to(device), c_eval.to(device), t_eval.to(device).float()\n",
        "                output_eval = model(s_eval, c_eval)\n",
        "\n",
        "                eval_loss = criterion(output_eval, t_eval)\n",
        "                eval_losses.append(eval_loss.item())\n",
        "\n",
        "                pred_eval = (output_eval > 0).float()\n",
        "                dice_eval = dice_score_binary(pred_eval, t_eval)\n",
        "                eval_dice_scores.append(dice_eval.item())\n",
        "\n",
        "                if eval_idx < 5:\n",
        "                    pred_np = pred_eval[0, 0].cpu().numpy()\n",
        "                    target_np = t_eval[0, 0].cpu().numpy()\n",
        "                    diff_np = (pred_np != target_np).astype(float)\n",
        "\n",
        "                    wandb.log({\n",
        "                        f\"eval_sample_{eval_idx}/dice_score\": dice_eval.item(),\n",
        "                        f\"eval_sample_{eval_idx}/dice_loss\": eval_loss.item(),\n",
        "                        f\"eval_sample_{eval_idx}/pred_mid_slice\": wandb.Image(pred_np[32]),\n",
        "                        f\"eval_sample_{eval_idx}/target_mid_slice\": wandb.Image(target_np[32]),\n",
        "                        f\"eval_sample_{eval_idx}/diff_mid_slice\": wandb.Image(diff_np[32]),\n",
        "                        \"eval/epoch\": epoch + 1,\n",
        "                        \"eval/batch\": batch_idx + 1 + epoch * len(train_loader),\n",
        "                    })\n",
        "\n",
        "        avg_eval_loss = sum(eval_losses) / len(eval_losses)\n",
        "        avg_eval_dice = sum(eval_dice_scores) / len(eval_dice_scores)\n",
        "\n",
        "        if use_wandb:\n",
        "            wandb.log({\n",
        "                \"eval/avg_loss\": avg_eval_loss,\n",
        "                \"eval/avg_dice_score\": avg_eval_dice,\n",
        "                \"eval/epoch\": epoch + 1,\n",
        "                \"eval/batch\": batch_idx + 1 + epoch * len(train_loader),\n",
        "            })\n",
        "\n",
        "        model.train()\n",
        "\n",
        "    avg_train_loss = running_loss / len(train_loader)\n",
        "    train_epoch_losses.append(avg_train_loss)\n",
        "    batch_losses.append(batch_loss_epoch)\n",
        "\n",
        "    # --- Validation Pass ---\n",
        "    model.eval()\n",
        "    val_loss = 0.0\n",
        "    with torch.no_grad():\n",
        "        for sagittal, coronal, target in val_loader:\n",
        "            sagittal, coronal, target = sagittal.to(device), coronal.to(device), target.to(device)\n",
        "            output = model(sagittal, coronal)\n",
        "            loss = criterion(output, target)\n",
        "            val_loss += loss.item()\n",
        "            if use_wandb:\n",
        "                wandb.log({\"val_batch_wise_loss\": loss.item()})\n",
        "\n",
        "    avg_val_loss = val_loss / len(val_loader)\n",
        "    val_epoch_losses.append(avg_val_loss)\n",
        "\n",
        "    if use_wandb:\n",
        "        wandb.log({\n",
        "            \"epoch\": epoch + 1,\n",
        "            \"train_loss\": avg_train_loss,\n",
        "            \"val_loss\": avg_val_loss\n",
        "        })\n",
        "\n",
        "    print(f\"[Epoch {epoch+1}] Train Dice Loss: {avg_train_loss:.4f} | Val Dice Loss: {avg_val_loss:.4f}\")\n",
        "\n",
        "# --- Wrap Up ---\n",
        "if use_wandb:\n",
        "    wandb.finish()\n",
        "\n",
        "# --- Plotting ---\n",
        "plt.figure(figsize=(12, 6))\n",
        "\n",
        "# Epoch-wise Loss\n",
        "plt.subplot(1, 2, 1)\n",
        "plt.plot(train_epoch_losses, label='Train Loss')\n",
        "plt.plot(val_epoch_losses, label='Val Loss')\n",
        "plt.xlabel(\"Epoch\")\n",
        "plt.ylabel(\"Loss\")\n",
        "plt.title(\"Epoch-wise Loss\")\n",
        "plt.legend()\n",
        "\n",
        "# Batch-wise Loss\n",
        "plt.subplot(1, 2, 2)\n",
        "flattened = [loss for epoch_losses in batch_losses for loss in epoch_losses]\n",
        "plt.plot(flattened, label='Batch Loss')\n",
        "plt.xlabel(\"Batch\")\n",
        "plt.ylabel(\"Loss\")\n",
        "plt.title(\"Batch-wise Loss\")\n",
        "plt.legend()\n",
        "\n",
        "plt.tight_layout()\n",
        "plt.show()\n"
      ],
      "metadata": {
        "colab": {
          "base_uri": "https://localhost:8080/",
          "height": 1000
        },
        "id": "psO01cjCKSlC",
        "outputId": "ec3fa740-6cb4-4d6c-8d5c-534e86e20e21"
      },
      "execution_count": 17,
      "outputs": [
        {
          "output_type": "display_data",
          "data": {
            "text/plain": [
              "<IPython.core.display.HTML object>"
            ],
            "text/html": [
              "Tracking run with wandb version 0.19.9"
            ]
          },
          "metadata": {}
        },
        {
          "output_type": "display_data",
          "data": {
            "text/plain": [
              "<IPython.core.display.HTML object>"
            ],
            "text/html": [
              "Run data is saved locally in <code>/content/wandb/run-20250425_041654-u4sc4kwe</code>"
            ]
          },
          "metadata": {}
        },
        {
          "output_type": "display_data",
          "data": {
            "text/plain": [
              "<IPython.core.display.HTML object>"
            ],
            "text/html": [
              "Syncing run <strong><a href='https://wandb.ai/jeevan-neupane003-khalti/TransvertFinal/runs/u4sc4kwe' target=\"_blank\">worldly-river-7</a></strong> to <a href='https://wandb.ai/jeevan-neupane003-khalti/TransvertFinal' target=\"_blank\">Weights & Biases</a> (<a href='https://wandb.me/developer-guide' target=\"_blank\">docs</a>)<br>"
            ]
          },
          "metadata": {}
        },
        {
          "output_type": "display_data",
          "data": {
            "text/plain": [
              "<IPython.core.display.HTML object>"
            ],
            "text/html": [
              " View project at <a href='https://wandb.ai/jeevan-neupane003-khalti/TransvertFinal' target=\"_blank\">https://wandb.ai/jeevan-neupane003-khalti/TransvertFinal</a>"
            ]
          },
          "metadata": {}
        },
        {
          "output_type": "display_data",
          "data": {
            "text/plain": [
              "<IPython.core.display.HTML object>"
            ],
            "text/html": [
              " View run at <a href='https://wandb.ai/jeevan-neupane003-khalti/TransvertFinal/runs/u4sc4kwe' target=\"_blank\">https://wandb.ai/jeevan-neupane003-khalti/TransvertFinal/runs/u4sc4kwe</a>"
            ]
          },
          "metadata": {}
        },
        {
          "output_type": "stream",
          "name": "stderr",
          "text": [
            "Epoch 1/20: 100%|██████████| 79/79 [02:01<00:00,  1.54s/it]\n"
          ]
        },
        {
          "output_type": "stream",
          "name": "stdout",
          "text": [
            "[Epoch 1] Train Dice Loss: 0.8663 | Val Dice Loss: 0.8044\n"
          ]
        },
        {
          "output_type": "stream",
          "name": "stderr",
          "text": [
            "Epoch 2/20: 100%|██████████| 79/79 [02:00<00:00,  1.53s/it]\n"
          ]
        },
        {
          "output_type": "stream",
          "name": "stdout",
          "text": [
            "[Epoch 2] Train Dice Loss: 0.7631 | Val Dice Loss: 0.7581\n"
          ]
        },
        {
          "output_type": "stream",
          "name": "stderr",
          "text": [
            "Epoch 3/20: 100%|██████████| 79/79 [02:00<00:00,  1.52s/it]\n"
          ]
        },
        {
          "output_type": "stream",
          "name": "stdout",
          "text": [
            "[Epoch 3] Train Dice Loss: 0.7301 | Val Dice Loss: 0.7252\n"
          ]
        },
        {
          "output_type": "stream",
          "name": "stderr",
          "text": [
            "Epoch 4/20: 100%|██████████| 79/79 [01:59<00:00,  1.51s/it]\n"
          ]
        },
        {
          "output_type": "stream",
          "name": "stdout",
          "text": [
            "[Epoch 4] Train Dice Loss: 0.7112 | Val Dice Loss: 0.7238\n"
          ]
        },
        {
          "output_type": "stream",
          "name": "stderr",
          "text": [
            "Epoch 5/20: 100%|██████████| 79/79 [02:00<00:00,  1.52s/it]\n"
          ]
        },
        {
          "output_type": "stream",
          "name": "stdout",
          "text": [
            "[Epoch 5] Train Dice Loss: 0.6922 | Val Dice Loss: 0.7248\n"
          ]
        },
        {
          "output_type": "stream",
          "name": "stderr",
          "text": [
            "Epoch 6/20: 100%|██████████| 79/79 [02:00<00:00,  1.52s/it]\n"
          ]
        },
        {
          "output_type": "stream",
          "name": "stdout",
          "text": [
            "[Epoch 6] Train Dice Loss: 0.6582 | Val Dice Loss: 0.6089\n"
          ]
        },
        {
          "output_type": "stream",
          "name": "stderr",
          "text": [
            "Epoch 7/20: 100%|██████████| 79/79 [01:59<00:00,  1.52s/it]\n"
          ]
        },
        {
          "output_type": "stream",
          "name": "stdout",
          "text": [
            "[Epoch 7] Train Dice Loss: 0.5883 | Val Dice Loss: 0.5494\n"
          ]
        },
        {
          "output_type": "stream",
          "name": "stderr",
          "text": [
            "Epoch 8/20: 100%|██████████| 79/79 [02:02<00:00,  1.55s/it]\n"
          ]
        },
        {
          "output_type": "stream",
          "name": "stdout",
          "text": [
            "[Epoch 8] Train Dice Loss: 0.5314 | Val Dice Loss: 0.5270\n"
          ]
        },
        {
          "output_type": "stream",
          "name": "stderr",
          "text": [
            "Epoch 9/20: 100%|██████████| 79/79 [02:00<00:00,  1.52s/it]\n"
          ]
        },
        {
          "output_type": "stream",
          "name": "stdout",
          "text": [
            "[Epoch 9] Train Dice Loss: 0.4909 | Val Dice Loss: 0.5044\n"
          ]
        },
        {
          "output_type": "stream",
          "name": "stderr",
          "text": [
            "Epoch 10/20: 100%|██████████| 79/79 [01:58<00:00,  1.50s/it]\n"
          ]
        },
        {
          "output_type": "stream",
          "name": "stdout",
          "text": [
            "[Epoch 10] Train Dice Loss: 0.4690 | Val Dice Loss: 0.5599\n"
          ]
        },
        {
          "output_type": "stream",
          "name": "stderr",
          "text": [
            "Epoch 11/20: 100%|██████████| 79/79 [01:59<00:00,  1.51s/it]\n"
          ]
        },
        {
          "output_type": "stream",
          "name": "stdout",
          "text": [
            "[Epoch 11] Train Dice Loss: 0.4600 | Val Dice Loss: 0.4810\n"
          ]
        },
        {
          "output_type": "stream",
          "name": "stderr",
          "text": [
            "Epoch 12/20: 100%|██████████| 79/79 [01:58<00:00,  1.50s/it]\n"
          ]
        },
        {
          "output_type": "stream",
          "name": "stdout",
          "text": [
            "[Epoch 12] Train Dice Loss: 0.4473 | Val Dice Loss: 0.4709\n"
          ]
        },
        {
          "output_type": "stream",
          "name": "stderr",
          "text": [
            "Epoch 13/20: 100%|██████████| 79/79 [01:59<00:00,  1.51s/it]\n"
          ]
        },
        {
          "output_type": "stream",
          "name": "stdout",
          "text": [
            "[Epoch 13] Train Dice Loss: 0.4398 | Val Dice Loss: 0.4783\n"
          ]
        },
        {
          "output_type": "stream",
          "name": "stderr",
          "text": [
            "Epoch 14/20: 100%|██████████| 79/79 [01:59<00:00,  1.51s/it]\n"
          ]
        },
        {
          "output_type": "stream",
          "name": "stdout",
          "text": [
            "[Epoch 14] Train Dice Loss: 0.4343 | Val Dice Loss: 0.4737\n"
          ]
        },
        {
          "output_type": "stream",
          "name": "stderr",
          "text": [
            "Epoch 15/20: 100%|██████████| 79/79 [01:59<00:00,  1.51s/it]\n"
          ]
        },
        {
          "output_type": "stream",
          "name": "stdout",
          "text": [
            "[Epoch 15] Train Dice Loss: 0.4310 | Val Dice Loss: 0.4627\n"
          ]
        },
        {
          "output_type": "stream",
          "name": "stderr",
          "text": [
            "Epoch 16/20: 100%|██████████| 79/79 [02:00<00:00,  1.53s/it]\n"
          ]
        },
        {
          "output_type": "stream",
          "name": "stdout",
          "text": [
            "[Epoch 16] Train Dice Loss: 0.4243 | Val Dice Loss: 0.4576\n"
          ]
        },
        {
          "output_type": "stream",
          "name": "stderr",
          "text": [
            "Epoch 17/20: 100%|██████████| 79/79 [01:59<00:00,  1.52s/it]\n"
          ]
        },
        {
          "output_type": "stream",
          "name": "stdout",
          "text": [
            "[Epoch 17] Train Dice Loss: 0.4233 | Val Dice Loss: 0.4618\n"
          ]
        },
        {
          "output_type": "stream",
          "name": "stderr",
          "text": [
            "Epoch 18/20: 100%|██████████| 79/79 [02:05<00:00,  1.59s/it]\n"
          ]
        },
        {
          "output_type": "stream",
          "name": "stdout",
          "text": [
            "[Epoch 18] Train Dice Loss: 0.4181 | Val Dice Loss: 0.4516\n"
          ]
        },
        {
          "output_type": "stream",
          "name": "stderr",
          "text": [
            "Epoch 19/20: 100%|██████████| 79/79 [02:06<00:00,  1.60s/it]\n"
          ]
        },
        {
          "output_type": "stream",
          "name": "stdout",
          "text": [
            "[Epoch 19] Train Dice Loss: 0.4155 | Val Dice Loss: 0.4499\n"
          ]
        },
        {
          "output_type": "stream",
          "name": "stderr",
          "text": [
            "Epoch 20/20: 100%|██████████| 79/79 [02:06<00:00,  1.60s/it]\n"
          ]
        },
        {
          "output_type": "stream",
          "name": "stdout",
          "text": [
            "[Epoch 20] Train Dice Loss: 0.4136 | Val Dice Loss: 0.4472\n"
          ]
        },
        {
          "output_type": "display_data",
          "data": {
            "text/plain": [
              "<IPython.core.display.HTML object>"
            ],
            "text/html": []
          },
          "metadata": {}
        },
        {
          "output_type": "display_data",
          "data": {
            "text/plain": [
              "<IPython.core.display.HTML object>"
            ],
            "text/html": [
              "<br>    <style><br>        .wandb-row {<br>            display: flex;<br>            flex-direction: row;<br>            flex-wrap: wrap;<br>            justify-content: flex-start;<br>            width: 100%;<br>        }<br>        .wandb-col {<br>            display: flex;<br>            flex-direction: column;<br>            flex-basis: 100%;<br>            flex: 1;<br>            padding: 10px;<br>        }<br>    </style><br><div class=\"wandb-row\"><div class=\"wandb-col\"><h3>Run history:</h3><br/><table class=\"wandb\"><tr><td>epoch</td><td>▁▁▂▂▂▃▃▄▄▄▅▅▅▆▆▇▇▇██</td></tr><tr><td>eval/avg_dice_score</td><td>▁▁▁▃▄▄▄▄▄▅▆▆▆▆▆▇▇▇▆▇▇▇▇█▇█▇█████████████</td></tr><tr><td>eval/avg_loss</td><td>█▅▅▅▅▅▅▅▅▅▅▅▅▅▅▅▅▄▃▃▂▂▂▂▂▂▂▁▁▁▁▁▁▁▁▁▁▁▁▁</td></tr><tr><td>eval/batch</td><td>▁▁▁▁▂▂▂▃▃▃▃▃▃▃▃▄▄▄▅▅▅▅▅▅▅▆▆▆▆▆▆▆▇▇▇▇▇▇██</td></tr><tr><td>eval/epoch</td><td>▁▁▁▁▁▁▂▂▂▂▂▂▂▂▃▃▄▄▄▄▄▄▄▅▅▅▅▅▅▆▆▆▆▇▇▇████</td></tr><tr><td>eval_sample_0/dice_loss</td><td>██▅▅▅▅▅▅▅▅▅▅▅▅▄▃▃▃▃▃▃▃▂▂▂▂▂▂▂▁▂▁▂▁▁▁▂▁▁▁</td></tr><tr><td>eval_sample_0/dice_score</td><td>▂▂▁▁▁▃▄▄▄▄▄▄▅▅▆▆▇▇▇▇▇▇▇▇▇▇▇▇█████▇██████</td></tr><tr><td>eval_sample_1/dice_loss</td><td>█▅▆▆▅▆▆▅▅▅▄▃▃▃▃▃▃▃▂▂▂▂▂▂▂▂▁▂▂▂▂▁▂▁▂▁▁▂▂▁</td></tr><tr><td>eval_sample_1/dice_score</td><td>▂▂▁▂▂▃▂▃▁▃▃▃▄▄▄▅▆▅▆▆▆▆▆▆▇▇▇▇▇▇▇▇▇▇▇█▇██▇</td></tr><tr><td>eval_sample_2/dice_loss</td><td>█▆▆▅▅▅▅▄▄▅▂▂▂▂▂▂▂▂▂▂▁▁▁▁▁▁▁▁▂▂▁▁▁▁▁▁▁▁▁▁</td></tr><tr><td>eval_sample_2/dice_score</td><td>▂▁▁▁▄▄▄▄▄▄▅▅▄▅▅▅▆▆▆▇▇▇▇▇▇▇██▇████▇██████</td></tr><tr><td>eval_sample_3/dice_loss</td><td>██▆▆▅▅▅▅▅▅▄▄▄▂▄▂▂▂▂▁▁▁▁▁▁▁▁▁▁▁▁▁▁▁▁▁▁▁▁▁</td></tr><tr><td>eval_sample_3/dice_score</td><td>▁▁▂▄▄▃▃▃▃▄▄▄▄▄▅▅▅▆▆▆▇▇▇▇▇█▇▇▇▇████▇█████</td></tr><tr><td>train_loss</td><td>█▆▆▆▅▅▄▃▂▂▂▂▁▁▁▁▁▁▁▁</td></tr><tr><td>training_batchwise_loss</td><td>█▇▇▇▇▆▆▇▆▅▆▆▅▄▃▃▄▃▃▂▃▂▂▃▄▂▃▂▁▃▁▁▂▂▂▂▃▃▂▁</td></tr><tr><td>val_batch_wise_loss</td><td>██▆▆▆▇▇▇▇▅▃▄▄▄▄▅▄▂▄▄▂▄▃▂▂▂▄▂▂▃▁▄▂▄▁▂▄▃▁▂</td></tr><tr><td>val_loss</td><td>█▇▆▆▆▄▃▃▂▃▂▁▂▂▁▁▁▁▁▁</td></tr></table><br/></div><div class=\"wandb-col\"><h3>Run summary:</h3><br/><table class=\"wandb\"><tr><td>epoch</td><td>20</td></tr><tr><td>eval/avg_dice_score</td><td>0.5702</td></tr><tr><td>eval/avg_loss</td><td>0.43118</td></tr><tr><td>eval/batch</td><td>1580</td></tr><tr><td>eval/epoch</td><td>20</td></tr><tr><td>eval_sample_0/dice_loss</td><td>0.4408</td></tr><tr><td>eval_sample_0/dice_score</td><td>0.56043</td></tr><tr><td>eval_sample_1/dice_loss</td><td>0.43407</td></tr><tr><td>eval_sample_1/dice_score</td><td>0.56728</td></tr><tr><td>eval_sample_2/dice_loss</td><td>0.37097</td></tr><tr><td>eval_sample_2/dice_score</td><td>0.63026</td></tr><tr><td>eval_sample_3/dice_loss</td><td>0.47889</td></tr><tr><td>eval_sample_3/dice_score</td><td>0.52285</td></tr><tr><td>train_loss</td><td>0.41365</td></tr><tr><td>training_batchwise_loss</td><td>0.37829</td></tr><tr><td>val_batch_wise_loss</td><td>0.35354</td></tr><tr><td>val_loss</td><td>0.44719</td></tr></table><br/></div></div>"
            ]
          },
          "metadata": {}
        },
        {
          "output_type": "display_data",
          "data": {
            "text/plain": [
              "<IPython.core.display.HTML object>"
            ],
            "text/html": [
              " View run <strong style=\"color:#cdcd00\">worldly-river-7</strong> at: <a href='https://wandb.ai/jeevan-neupane003-khalti/TransvertFinal/runs/u4sc4kwe' target=\"_blank\">https://wandb.ai/jeevan-neupane003-khalti/TransvertFinal/runs/u4sc4kwe</a><br> View project at: <a href='https://wandb.ai/jeevan-neupane003-khalti/TransvertFinal' target=\"_blank\">https://wandb.ai/jeevan-neupane003-khalti/TransvertFinal</a><br>Synced 5 W&B file(s), 18960 media file(s), 0 artifact file(s) and 0 other file(s)"
            ]
          },
          "metadata": {}
        },
        {
          "output_type": "display_data",
          "data": {
            "text/plain": [
              "<IPython.core.display.HTML object>"
            ],
            "text/html": [
              "Find logs at: <code>./wandb/run-20250425_041654-u4sc4kwe/logs</code>"
            ]
          },
          "metadata": {}
        },
        {
          "output_type": "display_data",
          "data": {
            "text/plain": [
              "<Figure size 1200x600 with 2 Axes>"
            ],
            "image/png": "[encoded data removed]"
          },
          "metadata": {}
        }
      ]
    },
    {
      "cell_type": "code",
      "source": [
        "import torch\n",
        "from tqdm import tqdm\n",
        "import wandb\n",
        "\n",
        "# Initialize wandb logging\n",
        "wandb.init(project=\"TransvertFinal\")\n",
        "\n",
        "# Dice Score (Binary)\n",
        "def dice_score_binary(pred, target, threshold=0.5, eps=1e-6):\n",
        "    # Ensure both pred and target are binary (0 or 1)\n",
        "    pred = (pred > threshold).float()\n",
        "    target = (target > threshold).float()\n",
        "\n",
        "    # Compute intersection and union\n",
        "    intersection = (pred * target).sum(dim=(1, 2, 3, 4))\n",
        "    union = pred.sum(dim=(1, 2, 3, 4)) + target.sum(dim=(1, 2, 3, 4))\n",
        "\n",
        "    dice = (2. * intersection + eps) / (union + eps)\n",
        "    return dice.mean()  # average over batch\n",
        "\n",
        "# Model evaluation function\n",
        "def evaluate_model(model, test_loader, device=\"cuda\"):\n",
        "    model.eval()\n",
        "    dice_scores = []\n",
        "    dice_losses = []\n",
        "\n",
        "    with torch.no_grad():\n",
        "        for idx, batch in enumerate(tqdm(test_loader, desc=\"Evaluating on Test Set\")):\n",
        "            sagittal, coronal, target = batch\n",
        "            sagittal = sagittal.to(device)\n",
        "            coronal = coronal.to(device)\n",
        "            target = target.to(device).float()\n",
        "\n",
        "            # Model output (logits)\n",
        "            output = model(sagittal, coronal)\n",
        "\n",
        "            # 1. Compute Dice Loss (from the DiceLoss class)\n",
        "            criterion = DiceLoss()  # Using Dice Loss class\n",
        "            loss = criterion(output, target)\n",
        "            dice_losses.append(loss.item())\n",
        "\n",
        "            # 2. Binarize the output and compute Dice Score\n",
        "            pred = (output > 0).float()  # Binarize the predictions\n",
        "            dice_score = dice_score_binary(pred, target)\n",
        "            dice_scores.append(dice_score.item())\n",
        "\n",
        "            # Log visuals and Dice score for the first 3 batches\n",
        "            if idx < 3:\n",
        "                pred_np = pred[0, 0].cpu().numpy()\n",
        "                target_np = target[0, 0].cpu().numpy()\n",
        "                diff_np = (pred_np != target_np).astype(float)\n",
        "\n",
        "                wandb.log({\n",
        "                    f\"sample_{idx}/dice_score\": dice_score.item(),\n",
        "                    f\"sample_{idx}/dice_loss\": loss.item(),\n",
        "                    f\"sample_{idx}/pred_mid_slice\": wandb.Image(pred_np[32]),\n",
        "                    f\"sample_{idx}/target_mid_slice\": wandb.Image(target_np[32]),\n",
        "                    f\"sample_{idx}/diff_mid_slice\": wandb.Image(diff_np[32]),\n",
        "                })\n",
        "\n",
        "    # Average Dice Score and Dice Loss over the test set\n",
        "    avg_dice_score = sum(dice_scores) / len(dice_scores)\n",
        "    avg_dice_loss = sum(dice_losses) / len(dice_losses)\n",
        "\n",
        "    # Log final average Dice Score and Dice Loss to wandb\n",
        "    wandb.log({\"test/avg_dice_score\": avg_dice_score, \"test/avg_dice_loss\": avg_dice_loss})\n",
        "\n",
        "    print(f\"\\n✅ Average Dice Score on Test Set: {avg_dice_score:.4f}\")\n",
        "    print(f\"✅ Average Dice Loss on Test Set: {avg_dice_loss:.4f}\")\n",
        "\n",
        "    # Finish wandb logging\n",
        "    wandb.finish()\n",
        "\n",
        "    return avg_dice_score, avg_dice_loss\n"
      ],
      "metadata": {
        "colab": {
          "base_uri": "https://localhost:8080/",
          "height": 104
        },
        "id": "NS8EKZrlGHIa",
        "outputId": "f2b6c569-75ab-4644-83e6-968be124fe4a"
      },
      "execution_count": 14,
      "outputs": [
        {
          "output_type": "display_data",
          "data": {
            "text/plain": [
              "<IPython.core.display.HTML object>"
            ],
            "text/html": [
              "Tracking run with wandb version 0.19.9"
            ]
          },
          "metadata": {}
        },
        {
          "output_type": "display_data",
          "data": {
            "text/plain": [
              "<IPython.core.display.HTML object>"
            ],
            "text/html": [
              "Run data is saved locally in <code>/content/wandb/run-20250425_035638-trzuz0mp</code>"
            ]
          },
          "metadata": {}
        },
        {
          "output_type": "display_data",
          "data": {
            "text/plain": [
              "<IPython.core.display.HTML object>"
            ],
            "text/html": [
              "Syncing run <strong><a href='https://wandb.ai/jeevan-neupane003-khalti/TransvertFinal/runs/trzuz0mp' target=\"_blank\">sage-sun-6</a></strong> to <a href='https://wandb.ai/jeevan-neupane003-khalti/TransvertFinal' target=\"_blank\">Weights & Biases</a> (<a href='https://wandb.me/developer-guide' target=\"_blank\">docs</a>)<br>"
            ]
          },
          "metadata": {}
        },
        {
          "output_type": "display_data",
          "data": {
            "text/plain": [
              "<IPython.core.display.HTML object>"
            ],
            "text/html": [
              " View project at <a href='https://wandb.ai/jeevan-neupane003-khalti/TransvertFinal' target=\"_blank\">https://wandb.ai/jeevan-neupane003-khalti/TransvertFinal</a>"
            ]
          },
          "metadata": {}
        },
        {
          "output_type": "display_data",
          "data": {
            "text/plain": [
              "<IPython.core.display.HTML object>"
            ],
            "text/html": [
              " View run at <a href='https://wandb.ai/jeevan-neupane003-khalti/TransvertFinal/runs/trzuz0mp' target=\"_blank\">https://wandb.ai/jeevan-neupane003-khalti/TransvertFinal/runs/trzuz0mp</a>"
            ]
          },
          "metadata": {}
        }
      ]
    },
    {
      "cell_type": "code",
      "source": [
        "avg_dice_score, avg_dice_loss = evaluate_model(model, test_loader, device=\"cuda\")\n"
      ],
      "metadata": {
        "colab": {
          "base_uri": "https://localhost:8080/",
          "height": 687
        },
        "id": "_J6Y71TGGfCI",
        "outputId": "7b5b38c2-9f8d-4e64-b792-9158423bcefb"
      },
      "execution_count": 15,
      "outputs": [
        {
          "output_type": "stream",
          "name": "stderr",
          "text": [
            "Evaluating on Test Set: 100%|██████████| 11/11 [00:22<00:00,  2.02s/it]"
          ]
        },
        {
          "output_type": "stream",
          "name": "stdout",
          "text": [
            "\n",
            "✅ Average Dice Score on Test Set: 0.5681\n",
            "✅ Average Dice Loss on Test Set: 0.4330\n"
          ]
        },
        {
          "output_type": "stream",
          "name": "stderr",
          "text": [
            "\n"
          ]
        },
        {
          "output_type": "display_data",
          "data": {
            "text/plain": [
              "<IPython.core.display.HTML object>"
            ],
            "text/html": []
          },
          "metadata": {}
        },
        {
          "output_type": "display_data",
          "data": {
            "text/plain": [
              "<IPython.core.display.HTML object>"
            ],
            "text/html": [
              "<br>    <style><br>        .wandb-row {<br>            display: flex;<br>            flex-direction: row;<br>            flex-wrap: wrap;<br>            justify-content: flex-start;<br>            width: 100%;<br>        }<br>        .wandb-col {<br>            display: flex;<br>            flex-direction: column;<br>            flex-basis: 100%;<br>            flex: 1;<br>            padding: 10px;<br>        }<br>    </style><br><div class=\"wandb-row\"><div class=\"wandb-col\"><h3>Run history:</h3><br/><table class=\"wandb\"><tr><td>sample_0/dice_loss</td><td>▁</td></tr><tr><td>sample_0/dice_score</td><td>▁</td></tr><tr><td>sample_1/dice_loss</td><td>▁</td></tr><tr><td>sample_1/dice_score</td><td>▁</td></tr><tr><td>sample_2/dice_loss</td><td>▁</td></tr><tr><td>sample_2/dice_score</td><td>▁</td></tr><tr><td>test/avg_dice_loss</td><td>▁</td></tr><tr><td>test/avg_dice_score</td><td>▁</td></tr></table><br/></div><div class=\"wandb-col\"><h3>Run summary:</h3><br/><table class=\"wandb\"><tr><td>sample_0/dice_loss</td><td>0.36995</td></tr><tr><td>sample_0/dice_score</td><td>0.63073</td></tr><tr><td>sample_1/dice_loss</td><td>0.42577</td></tr><tr><td>sample_1/dice_score</td><td>0.57496</td></tr><tr><td>sample_2/dice_loss</td><td>0.38669</td></tr><tr><td>sample_2/dice_score</td><td>0.61519</td></tr><tr><td>test/avg_dice_loss</td><td>0.43301</td></tr><tr><td>test/avg_dice_score</td><td>0.56813</td></tr></table><br/></div></div>"
            ]
          },
          "metadata": {}
        },
        {
          "output_type": "display_data",
          "data": {
            "text/plain": [
              "<IPython.core.display.HTML object>"
            ],
            "text/html": [
              " View run <strong style=\"color:#cdcd00\">sage-sun-6</strong> at: <a href='https://wandb.ai/jeevan-neupane003-khalti/TransvertFinal/runs/trzuz0mp' target=\"_blank\">https://wandb.ai/jeevan-neupane003-khalti/TransvertFinal/runs/trzuz0mp</a><br> View project at: <a href='https://wandb.ai/jeevan-neupane003-khalti/TransvertFinal' target=\"_blank\">https://wandb.ai/jeevan-neupane003-khalti/TransvertFinal</a><br>Synced 5 W&B file(s), 9 media file(s), 0 artifact file(s) and 0 other file(s)"
            ]
          },
          "metadata": {}
        },
        {
          "output_type": "display_data",
          "data": {
            "text/plain": [
              "<IPython.core.display.HTML object>"
            ],
            "text/html": [
              "Find logs at: <code>./wandb/run-20250425_035638-trzuz0mp/logs</code>"
            ]
          },
          "metadata": {}
        }
      ]
    },
    {
      "cell_type": "code",
      "source": [
        "import torch\n",
        "import matplotlib.pyplot as plt\n",
        "import ipywidgets as widgets\n",
        "from IPython.display import display\n",
        "import numpy as np\n",
        "\n",
        "# Ensure model is in eval mode\n",
        "model.eval()\n",
        "\n",
        "# Store predictions and ground truths\n",
        "predictions = []\n",
        "ground_truths = []\n",
        "\n",
        "# Inference on all 4 eval samples\n",
        "with torch.no_grad():\n",
        "    for sagittal, coronal, target in eval_loader:\n",
        "        sagittal, coronal = sagittal.to(device), coronal.to(device)\n",
        "        output = model(sagittal, coronal)\n",
        "        output = torch.sigmoid(output)  # Ensure output is between 0-1\n",
        "\n",
        "        pred_np = output[0, 0].cpu().numpy()\n",
        "        target_np = target[0, 0].cpu().numpy()\n",
        "\n",
        "        # Normalize for visualization\n",
        "        pred_np = (pred_np - pred_np.min()) / (pred_np.max() - pred_np.min())\n",
        "        target_np = (target_np - target_np.min()) / (target_np.max() - target_np.min())\n",
        "\n",
        "        predictions.append(pred_np)\n",
        "        ground_truths.append(target_np)\n",
        "\n",
        "# Interactive viewer\n",
        "def view_eval_sample(sample_index, slice_index):\n",
        "    pred_vol = predictions[sample_index]\n",
        "    gt_vol = ground_truths[sample_index]\n",
        "\n",
        "    plt.figure(figsize=(10, 5))\n",
        "\n",
        "    plt.subplot(1, 2, 1)\n",
        "    plt.imshow(gt_vol[slice_index], cmap='gray')\n",
        "    plt.title(f\"Ground Truth - Sample {sample_index}, Slice {slice_index}\")\n",
        "    plt.axis('off')\n",
        "\n",
        "    plt.subplot(1, 2, 2)\n",
        "    plt.imshow(pred_vol[slice_index], cmap='gray')\n",
        "    plt.title(f\"Prediction - Sample {sample_index}, Slice {slice_index}\")\n",
        "    plt.axis('off')\n",
        "\n",
        "    plt.show()\n",
        "\n",
        "# Widgets\n",
        "sample_slider = widgets.IntSlider(min=0, max=3, step=1, description='Sample')\n",
        "slice_slider = widgets.IntSlider(min=0, max=63, step=1, description='Slice')\n",
        "\n",
        "widgets.interact(view_eval_sample, sample_index=sample_slider, slice_index=slice_slider)\n"
      ],
      "metadata": {
        "id": "p4s9zOPiO5xH",
        "outputId": "126cd234-21e1-4670-f270-ede832ddbbcf",
        "colab": {
          "base_uri": "https://localhost:8080/",
          "height": 562,
          "referenced_widgets": [
            "7d3f978284924f91b1cccac34b0ff77a",
            "5d4d04b24eb345c883962f4a6da2896f",
            "af9e00cade9b4b2b8e8b1b5b3e164133",
            "39bd9fc770d54f149a1e322752287841",
            "0f9b26f1e74b46b7955aab89b8c8473a",
            "a46facf838f14cc082786b80f022b397",
            "13d4743434f74517b18e639af980846a",
            "67085721d02c44309a55601430f9633f",
            "cb6bc159bb5d41e38952d5241d43c3dd",
            "bde50a4e3a49469fa34b2300665f1db7"
          ]
        }
      },
      "execution_count": 16,
      "outputs": [
        {
          "output_type": "display_data",
          "data": {
            "text/plain": [
              "interactive(children=(IntSlider(value=0, description='Sample', max=3), IntSlider(value=0, description='Slice',…"
            ],
            "application/vnd.jupyter.widget-view+json": {
              "version_major": 2,
              "version_minor": 0,
              "model_id": "7d3f978284924f91b1cccac34b0ff77a"
            }
          },
          "metadata": {}
        },
        {
          "output_type": "execute_result",
          "data": {
            "text/plain": [
              "<function __main__.view_eval_sample(sample_index, slice_index)>"
            ],
            "text/html": [
              "<div style=\"max-width:800px; border: 1px solid var(--colab-border-color);\"><style>\n",
              "      pre.function-repr-contents {\n",
              "        overflow-x: auto;\n",
              "        padding: 8px 12px;\n",
              "        max-height: 500px;\n",
              "      }\n",
              "\n",
              "      pre.function-repr-contents.function-repr-contents-collapsed {\n",
              "        cursor: pointer;\n",
              "        max-height: 100px;\n",
              "      }\n",
              "    </style>\n",
              "    <pre style=\"white-space: initial; background:\n",
              "         var(--colab-secondary-surface-color); padding: 8px 12px;\n",
              "         border-bottom: 1px solid var(--colab-border-color);\"><b>view_eval_sample</b><br/>def view_eval_sample(sample_index, slice_index)</pre><pre class=\"function-repr-contents function-repr-contents-collapsed\" style=\"\"><a class=\"filepath\" style=\"display:none\" href=\"#\">/content/&lt;ipython-input-16-e34092a5e2aa&gt;</a>&lt;no docstring&gt;</pre></div>"
            ]
          },
          "metadata": {},
          "execution_count": 16
        }
      ]
    }
  ]
}